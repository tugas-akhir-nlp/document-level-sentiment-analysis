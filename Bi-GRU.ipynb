{
 "cells": [
  {
   "cell_type": "code",
   "execution_count": 1,
   "metadata": {},
   "outputs": [
    {
     "name": "stderr",
     "output_type": "stream",
     "text": [
      "C:\\Users\\User\\Anaconda3\\lib\\site-packages\\gensim\\utils.py:1212: UserWarning: detected Windows; aliasing chunkize to chunkize_serial\n",
      "  warnings.warn(\"detected Windows; aliasing chunkize to chunkize_serial\")\n",
      "C:\\Users\\User\\Anaconda3\\lib\\site-packages\\pattern-2.6-py3.6.egg\\pattern\\text\\en\\..\\..\\..\\..\\sklearn\\cross_validation.py:41: DeprecationWarning: This module was deprecated in version 0.18 in favor of the model_selection module into which all the refactored classes and functions are moved. Also note that the interface of the new CV iterators are different from that of this module. This module will be removed in 0.20.\n",
      "  \"This module will be removed in 0.20.\", DeprecationWarning)\n",
      "C:\\Users\\User\\Anaconda3\\lib\\site-packages\\h5py\\__init__.py:36: FutureWarning: Conversion of the second argument of issubdtype from `float` to `np.floating` is deprecated. In future, it will be treated as `np.float64 == np.dtype(float).type`.\n",
      "  from ._conv import register_converters as _register_converters\n",
      "Using TensorFlow backend.\n"
     ]
    }
   ],
   "source": [
    "import os\n",
    "import sys\n",
    "import gensim\n",
    "import pandas as pd\n",
    "from gensim.models.doc2vec import LabeledSentence\n",
    "from sklearn.cross_validation import train_test_split\n",
    "from gensim.models.word2vec import Word2Vec\n",
    "from tqdm import tqdm\n",
    "from sklearn import utils\n",
    "import numpy as np\n",
    "from keras import optimizers\n",
    "from keras.models import load_model\n",
    "from sklearn.metrics import accuracy_score, classification_report\n",
    "from keras.preprocessing import sequence\n",
    "from keras.models import Sequential\n",
    "from keras.layers import Dense, Dropout, Embedding, GRU, Bidirectional"
   ]
  },
  {
   "cell_type": "code",
   "execution_count": 2,
   "metadata": {},
   "outputs": [
    {
     "data": {
      "text/html": [
       "<div>\n",
       "<style>\n",
       "    .dataframe thead tr:only-child th {\n",
       "        text-align: right;\n",
       "    }\n",
       "\n",
       "    .dataframe thead th {\n",
       "        text-align: left;\n",
       "    }\n",
       "\n",
       "    .dataframe tbody tr th {\n",
       "        vertical-align: top;\n",
       "    }\n",
       "</style>\n",
       "<table border=\"1\" class=\"dataframe\">\n",
       "  <thead>\n",
       "    <tr style=\"text-align: right;\">\n",
       "      <th></th>\n",
       "      <th>content</th>\n",
       "      <th>polarity</th>\n",
       "    </tr>\n",
       "  </thead>\n",
       "  <tbody>\n",
       "    <tr>\n",
       "      <th>0</th>\n",
       "      <td>lokasi hotel tidak jauh dari komplek mall kali...</td>\n",
       "      <td>negative</td>\n",
       "    </tr>\n",
       "    <tr>\n",
       "      <th>1</th>\n",
       "      <td>lokasi hotel tidak jauh dengan taksi ke area m...</td>\n",
       "      <td>negative</td>\n",
       "    </tr>\n",
       "    <tr>\n",
       "      <th>2</th>\n",
       "      <td>lokasi hotel yang sangat strategis masih di ko...</td>\n",
       "      <td>negative</td>\n",
       "    </tr>\n",
       "    <tr>\n",
       "      <th>3</th>\n",
       "      <td>lokasi hotel yang sangat strategis masih di ko...</td>\n",
       "      <td>negative</td>\n",
       "    </tr>\n",
       "    <tr>\n",
       "      <th>4</th>\n",
       "      <td>lokasi hotel yang strategis di tengah kota dan...</td>\n",
       "      <td>negative</td>\n",
       "    </tr>\n",
       "  </tbody>\n",
       "</table>\n",
       "</div>"
      ],
      "text/plain": [
       "                                             content  polarity\n",
       "0  lokasi hotel tidak jauh dari komplek mall kali...  negative\n",
       "1  lokasi hotel tidak jauh dengan taksi ke area m...  negative\n",
       "2  lokasi hotel yang sangat strategis masih di ko...  negative\n",
       "3  lokasi hotel yang sangat strategis masih di ko...  negative\n",
       "4  lokasi hotel yang strategis di tengah kota dan...  negative"
      ]
     },
     "execution_count": 2,
     "metadata": {},
     "output_type": "execute_result"
    }
   ],
   "source": [
    "# train_set = pd.read_csv('./corpus/tripadvisor/train_set.csv')\n",
    "test_set = pd.read_csv('./corpus/tripadvisor/test.csv')\n",
    "test_set.head()"
   ]
  },
  {
   "cell_type": "code",
   "execution_count": 3,
   "metadata": {
    "collapsed": true
   },
   "outputs": [],
   "source": [
    "def sentiment_label(polarity):\n",
    "    if polarity=='negative':\n",
    "        return 0\n",
    "    else:\n",
    "        return 1"
   ]
  },
  {
   "cell_type": "code",
   "execution_count": 4,
   "metadata": {},
   "outputs": [
    {
     "data": {
      "text/html": [
       "<div>\n",
       "<style>\n",
       "    .dataframe thead tr:only-child th {\n",
       "        text-align: right;\n",
       "    }\n",
       "\n",
       "    .dataframe thead th {\n",
       "        text-align: left;\n",
       "    }\n",
       "\n",
       "    .dataframe tbody tr th {\n",
       "        vertical-align: top;\n",
       "    }\n",
       "</style>\n",
       "<table border=\"1\" class=\"dataframe\">\n",
       "  <thead>\n",
       "    <tr style=\"text-align: right;\">\n",
       "      <th></th>\n",
       "      <th>content</th>\n",
       "      <th>polarity</th>\n",
       "      <th>sentiment</th>\n",
       "    </tr>\n",
       "  </thead>\n",
       "  <tbody>\n",
       "    <tr>\n",
       "      <th>0</th>\n",
       "      <td>lokasi hotel tidak jauh dari komplek mall kali...</td>\n",
       "      <td>negative</td>\n",
       "      <td>0</td>\n",
       "    </tr>\n",
       "    <tr>\n",
       "      <th>1</th>\n",
       "      <td>lokasi hotel tidak jauh dengan taksi ke area m...</td>\n",
       "      <td>negative</td>\n",
       "      <td>0</td>\n",
       "    </tr>\n",
       "    <tr>\n",
       "      <th>2</th>\n",
       "      <td>lokasi hotel yang sangat strategis masih di ko...</td>\n",
       "      <td>negative</td>\n",
       "      <td>0</td>\n",
       "    </tr>\n",
       "    <tr>\n",
       "      <th>3</th>\n",
       "      <td>lokasi hotel yang sangat strategis masih di ko...</td>\n",
       "      <td>negative</td>\n",
       "      <td>0</td>\n",
       "    </tr>\n",
       "    <tr>\n",
       "      <th>4</th>\n",
       "      <td>lokasi hotel yang strategis di tengah kota dan...</td>\n",
       "      <td>negative</td>\n",
       "      <td>0</td>\n",
       "    </tr>\n",
       "  </tbody>\n",
       "</table>\n",
       "</div>"
      ],
      "text/plain": [
       "                                             content  polarity  sentiment\n",
       "0  lokasi hotel tidak jauh dari komplek mall kali...  negative          0\n",
       "1  lokasi hotel tidak jauh dengan taksi ke area m...  negative          0\n",
       "2  lokasi hotel yang sangat strategis masih di ko...  negative          0\n",
       "3  lokasi hotel yang sangat strategis masih di ko...  negative          0\n",
       "4  lokasi hotel yang strategis di tengah kota dan...  negative          0"
      ]
     },
     "execution_count": 4,
     "metadata": {},
     "output_type": "execute_result"
    }
   ],
   "source": [
    "# train_set['sentiment'] = train_set['polarity'].apply(sentiment_label)\n",
    "test_set['sentiment'] = test_set['polarity'].apply(sentiment_label)\n",
    "test_set.head()"
   ]
  },
  {
   "cell_type": "code",
   "execution_count": 5,
   "metadata": {
    "collapsed": true
   },
   "outputs": [],
   "source": [
    "SEED = 2000\n",
    "\n",
    "x_train, x_validation, y_train, y_validation = train_test_split(test_set['content'], test_set['sentiment'], test_size=.1, random_state=SEED)"
   ]
  },
  {
   "cell_type": "code",
   "execution_count": 6,
   "metadata": {
    "collapsed": true
   },
   "outputs": [],
   "source": [
    "# x_train = train_set['content']\n",
    "# x_validation = test_set['content']\n",
    "# y_train = train_set['sentiment']\n",
    "# y_validation = test_set['sentiment']"
   ]
  },
  {
   "cell_type": "code",
   "execution_count": 6,
   "metadata": {},
   "outputs": [
    {
     "name": "stderr",
     "output_type": "stream",
     "text": [
      "C:\\Users\\User\\Anaconda3\\lib\\site-packages\\ipykernel_launcher.py:5: DeprecationWarning: Call to deprecated `LabeledSentence` (Class will be removed in 4.0.0, use TaggedDocument instead).\n",
      "  \"\"\"\n"
     ]
    }
   ],
   "source": [
    "def labelize_text(text,label):\n",
    "    result = []\n",
    "    prefix = label\n",
    "    for i, t in zip(text.index, text):\n",
    "        result.append(LabeledSentence(t.split(), [prefix + '_%s' % i]))\n",
    "    return result\n",
    "  \n",
    "x_train = labelize_text(x_train, 'TRAIN')\n",
    "x_validation = labelize_text(x_validation, 'TEST')"
   ]
  },
  {
   "cell_type": "code",
   "execution_count": 7,
   "metadata": {
    "collapsed": true
   },
   "outputs": [],
   "source": [
    "MAX_SEQUENCE_LENGTH = 85\n",
    "data_dim = 500"
   ]
  },
  {
   "cell_type": "code",
   "execution_count": 8,
   "metadata": {
    "collapsed": true
   },
   "outputs": [],
   "source": [
    "word2vec = Word2Vec.load('./prosa-w2v/prosa.vec')\n",
    "# word2vec = Word2Vec.load(\"./vectorizer/tripadvisor/word2vec_300.model\")"
   ]
  },
  {
   "cell_type": "code",
   "execution_count": 9,
   "metadata": {
    "collapsed": true
   },
   "outputs": [],
   "source": [
    "def build_Word_Vector(tokens, size):\n",
    "    vec = np.zeros((MAX_SEQUENCE_LENGTH - len(tokens), size))\n",
    "    for word in tokens:\n",
    "        try:\n",
    "            vec = np.append(vec, word2vec[word])\n",
    "        except KeyError: \n",
    "            vec = np.append(vec, np.zeros((1, size)))\n",
    "            continue\n",
    "    vec.reshape(MAX_SEQUENCE_LENGTH, size)\n",
    "    return vec"
   ]
  },
  {
   "cell_type": "code",
   "execution_count": 10,
   "metadata": {},
   "outputs": [
    {
     "name": "stderr",
     "output_type": "stream",
     "text": [
      "0it [00:00, ?it/s]C:\\Users\\User\\Anaconda3\\lib\\site-packages\\ipykernel_launcher.py:5: DeprecationWarning: Call to deprecated `__getitem__` (Method will be removed in 4.0.0, use self.wv.__getitem__() instead).\n",
      "  \"\"\"\n",
      "746it [00:01, 432.52it/s]\n",
      "83it [00:00, 413.39it/s]\n"
     ]
    }
   ],
   "source": [
    "train_vecs = np.concatenate([[build_Word_Vector(z, 500)] for z in tqdm(map(lambda x: x.words, x_train))])\n",
    "val_vecs = np.concatenate([[build_Word_Vector(z, 500)] for z in tqdm(map(lambda x: x.words, x_validation))])"
   ]
  },
  {
   "cell_type": "code",
   "execution_count": 11,
   "metadata": {
    "collapsed": true
   },
   "outputs": [],
   "source": [
    "batch_size = 56\n",
    "num_epochs = 10\n",
    "hidden_size = 10\n",
    "timesteps = MAX_SEQUENCE_LENGTH\n",
    "num_class = 1"
   ]
  },
  {
   "cell_type": "code",
   "execution_count": 12,
   "metadata": {},
   "outputs": [
    {
     "name": "stderr",
     "output_type": "stream",
     "text": [
      "C:\\Users\\User\\Anaconda3\\lib\\site-packages\\ipykernel_launcher.py:5: FutureWarning: reshape is deprecated and will raise in a subsequent release. Please use .values.reshape(...) instead\n",
      "  \"\"\"\n",
      "C:\\Users\\User\\Anaconda3\\lib\\site-packages\\ipykernel_launcher.py:7: FutureWarning: reshape is deprecated and will raise in a subsequent release. Please use .values.reshape(...) instead\n",
      "  import sys\n"
     ]
    }
   ],
   "source": [
    "num_data = len(train_vecs)\n",
    "num_data_val = len(val_vecs)\n",
    "\n",
    "train_vecs = train_vecs.reshape((num_data, timesteps, data_dim))\n",
    "y_train = y_train.reshape((num_data, num_class))\n",
    "val_vecs = val_vecs.reshape((num_data_val, timesteps, data_dim))\n",
    "y_validation = y_validation.reshape((num_data_val, num_class))"
   ]
  },
  {
   "cell_type": "code",
   "execution_count": 13,
   "metadata": {},
   "outputs": [
    {
     "name": "stdout",
     "output_type": "stream",
     "text": [
      "Train on 746 samples, validate on 83 samples\n",
      "Epoch 1/10\n",
      "746/746 [==============================] - ETA: 1:40 - loss: 0.8175 - acc: 0.468 - ETA: 50s - loss: 0.7527 - acc: 0.531 - ETA: 33s - loss: 0.7875 - acc: 0.45 - ETA: 24s - loss: 0.7879 - acc: 0.46 - ETA: 19s - loss: 0.7925 - acc: 0.46 - ETA: 15s - loss: 0.7880 - acc: 0.46 - ETA: 13s - loss: 0.7756 - acc: 0.47 - ETA: 11s - loss: 0.7864 - acc: 0.47 - ETA: 9s - loss: 0.7798 - acc: 0.4792 - ETA: 8s - loss: 0.7723 - acc: 0.481 - ETA: 7s - loss: 0.7669 - acc: 0.480 - ETA: 6s - loss: 0.7594 - acc: 0.487 - ETA: 5s - loss: 0.7581 - acc: 0.485 - ETA: 4s - loss: 0.7527 - acc: 0.488 - ETA: 3s - loss: 0.7448 - acc: 0.495 - ETA: 3s - loss: 0.7378 - acc: 0.502 - ETA: 2s - loss: 0.7397 - acc: 0.501 - ETA: 2s - loss: 0.7438 - acc: 0.503 - ETA: 1s - loss: 0.7367 - acc: 0.514 - ETA: 1s - loss: 0.7314 - acc: 0.517 - ETA: 0s - loss: 0.7271 - acc: 0.520 - ETA: 0s - loss: 0.7297 - acc: 0.521 - ETA: 0s - loss: 0.7289 - acc: 0.521 - 9s 12ms/step - loss: 0.7297 - acc: 0.5201 - val_loss: 0.6232 - val_acc: 0.6506\n",
      "Epoch 2/10\n",
      "746/746 [==============================] - ETA: 3s - loss: 0.7062 - acc: 0.562 - ETA: 3s - loss: 0.6072 - acc: 0.687 - ETA: 3s - loss: 0.6334 - acc: 0.625 - ETA: 3s - loss: 0.6789 - acc: 0.578 - ETA: 2s - loss: 0.6640 - acc: 0.575 - ETA: 2s - loss: 0.6606 - acc: 0.578 - ETA: 2s - loss: 0.6541 - acc: 0.580 - ETA: 2s - loss: 0.6713 - acc: 0.574 - ETA: 2s - loss: 0.6720 - acc: 0.579 - ETA: 2s - loss: 0.6555 - acc: 0.603 - ETA: 1s - loss: 0.6503 - acc: 0.602 - ETA: 1s - loss: 0.6473 - acc: 0.612 - ETA: 1s - loss: 0.6442 - acc: 0.610 - ETA: 1s - loss: 0.6330 - acc: 0.625 - ETA: 1s - loss: 0.6295 - acc: 0.629 - ETA: 1s - loss: 0.6350 - acc: 0.621 - ETA: 1s - loss: 0.6259 - acc: 0.637 - ETA: 0s - loss: 0.6247 - acc: 0.633 - ETA: 0s - loss: 0.6282 - acc: 0.629 - ETA: 0s - loss: 0.6234 - acc: 0.637 - ETA: 0s - loss: 0.6207 - acc: 0.642 - ETA: 0s - loss: 0.6167 - acc: 0.647 - ETA: 0s - loss: 0.6152 - acc: 0.649 - 4s 5ms/step - loss: 0.6160 - acc: 0.6501 - val_loss: 0.5767 - val_acc: 0.6988\n",
      "Epoch 3/10\n",
      "746/746 [==============================] - ETA: 3s - loss: 0.5939 - acc: 0.656 - ETA: 3s - loss: 0.5639 - acc: 0.718 - ETA: 3s - loss: 0.5846 - acc: 0.708 - ETA: 3s - loss: 0.5885 - acc: 0.726 - ETA: 2s - loss: 0.5781 - acc: 0.718 - ETA: 2s - loss: 0.5801 - acc: 0.713 - ETA: 2s - loss: 0.5666 - acc: 0.718 - ETA: 2s - loss: 0.5583 - acc: 0.722 - ETA: 2s - loss: 0.5645 - acc: 0.718 - ETA: 2s - loss: 0.5640 - acc: 0.721 - ETA: 1s - loss: 0.5506 - acc: 0.741 - ETA: 1s - loss: 0.5461 - acc: 0.744 - ETA: 1s - loss: 0.5419 - acc: 0.745 - ETA: 1s - loss: 0.5427 - acc: 0.738 - ETA: 1s - loss: 0.5473 - acc: 0.737 - ETA: 1s - loss: 0.5502 - acc: 0.732 - ETA: 1s - loss: 0.5530 - acc: 0.727 - ETA: 0s - loss: 0.5501 - acc: 0.729 - ETA: 0s - loss: 0.5532 - acc: 0.733 - ETA: 0s - loss: 0.5541 - acc: 0.732 - ETA: 0s - loss: 0.5542 - acc: 0.732 - ETA: 0s - loss: 0.5566 - acc: 0.730 - ETA: 0s - loss: 0.5546 - acc: 0.733 - 4s 5ms/step - loss: 0.5533 - acc: 0.7346 - val_loss: 0.5483 - val_acc: 0.7229\n",
      "Epoch 4/10\n",
      "746/746 [==============================] - ETA: 3s - loss: 0.4683 - acc: 0.781 - ETA: 3s - loss: 0.4749 - acc: 0.781 - ETA: 3s - loss: 0.4864 - acc: 0.802 - ETA: 3s - loss: 0.4966 - acc: 0.773 - ETA: 2s - loss: 0.4975 - acc: 0.781 - ETA: 2s - loss: 0.5053 - acc: 0.765 - ETA: 2s - loss: 0.5019 - acc: 0.776 - ETA: 2s - loss: 0.5013 - acc: 0.769 - ETA: 2s - loss: 0.5143 - acc: 0.743 - ETA: 2s - loss: 0.5136 - acc: 0.759 - ETA: 1s - loss: 0.5143 - acc: 0.752 - ETA: 1s - loss: 0.5170 - acc: 0.755 - ETA: 1s - loss: 0.5244 - acc: 0.747 - ETA: 1s - loss: 0.5242 - acc: 0.745 - ETA: 1s - loss: 0.5220 - acc: 0.743 - ETA: 1s - loss: 0.5218 - acc: 0.746 - ETA: 1s - loss: 0.5218 - acc: 0.746 - ETA: 0s - loss: 0.5246 - acc: 0.739 - ETA: 0s - loss: 0.5224 - acc: 0.741 - ETA: 0s - loss: 0.5231 - acc: 0.740 - ETA: 0s - loss: 0.5237 - acc: 0.741 - ETA: 0s - loss: 0.5272 - acc: 0.737 - ETA: 0s - loss: 0.5267 - acc: 0.740 - 4s 5ms/step - loss: 0.5273 - acc: 0.7413 - val_loss: 0.5499 - val_acc: 0.7470\n",
      "Epoch 5/10\n",
      "746/746 [==============================] - ETA: 3s - loss: 0.4901 - acc: 0.781 - ETA: 3s - loss: 0.4532 - acc: 0.828 - ETA: 3s - loss: 0.4890 - acc: 0.781 - ETA: 3s - loss: 0.4599 - acc: 0.804 - ETA: 3s - loss: 0.4492 - acc: 0.812 - ETA: 2s - loss: 0.4307 - acc: 0.822 - ETA: 2s - loss: 0.4354 - acc: 0.808 - ETA: 2s - loss: 0.4371 - acc: 0.808 - ETA: 2s - loss: 0.4417 - acc: 0.798 - ETA: 2s - loss: 0.4413 - acc: 0.803 - ETA: 2s - loss: 0.4478 - acc: 0.798 - ETA: 1s - loss: 0.4461 - acc: 0.807 - ETA: 1s - loss: 0.4483 - acc: 0.807 - ETA: 1s - loss: 0.4533 - acc: 0.801 - ETA: 1s - loss: 0.4649 - acc: 0.785 - ETA: 1s - loss: 0.4672 - acc: 0.783 - ETA: 1s - loss: 0.4668 - acc: 0.784 - ETA: 0s - loss: 0.4686 - acc: 0.779 - ETA: 0s - loss: 0.4648 - acc: 0.784 - ETA: 0s - loss: 0.4701 - acc: 0.775 - ETA: 0s - loss: 0.4709 - acc: 0.773 - ETA: 0s - loss: 0.4731 - acc: 0.772 - ETA: 0s - loss: 0.4729 - acc: 0.773 - 4s 5ms/step - loss: 0.4744 - acc: 0.7721 - val_loss: 0.5227 - val_acc: 0.7590\n",
      "Epoch 6/10\n",
      "746/746 [==============================] - ETA: 3s - loss: 0.4357 - acc: 0.812 - ETA: 3s - loss: 0.4295 - acc: 0.828 - ETA: 3s - loss: 0.4112 - acc: 0.843 - ETA: 3s - loss: 0.4208 - acc: 0.835 - ETA: 2s - loss: 0.4443 - acc: 0.825 - ETA: 2s - loss: 0.4578 - acc: 0.812 - ETA: 2s - loss: 0.4653 - acc: 0.817 - ETA: 2s - loss: 0.4765 - acc: 0.808 - ETA: 2s - loss: 0.4579 - acc: 0.816 - ETA: 2s - loss: 0.4519 - acc: 0.812 - ETA: 1s - loss: 0.4608 - acc: 0.806 - ETA: 1s - loss: 0.4580 - acc: 0.804 - ETA: 1s - loss: 0.4519 - acc: 0.805 - ETA: 1s - loss: 0.4565 - acc: 0.803 - ETA: 1s - loss: 0.4537 - acc: 0.804 - ETA: 1s - loss: 0.4514 - acc: 0.806 - ETA: 0s - loss: 0.4497 - acc: 0.810 - ETA: 0s - loss: 0.4429 - acc: 0.814 - ETA: 0s - loss: 0.4447 - acc: 0.809 - ETA: 0s - loss: 0.4411 - acc: 0.810 - ETA: 0s - loss: 0.4429 - acc: 0.809 - ETA: 0s - loss: 0.4447 - acc: 0.808 - ETA: 0s - loss: 0.4450 - acc: 0.811 - 4s 5ms/step - loss: 0.4440 - acc: 0.8110 - val_loss: 0.4988 - val_acc: 0.7831\n",
      "Epoch 7/10\n",
      "746/746 [==============================] - ETA: 3s - loss: 0.4697 - acc: 0.781 - ETA: 3s - loss: 0.4040 - acc: 0.843 - ETA: 3s - loss: 0.4160 - acc: 0.833 - ETA: 3s - loss: 0.4122 - acc: 0.851 - ETA: 2s - loss: 0.4236 - acc: 0.850 - ETA: 2s - loss: 0.4192 - acc: 0.854 - ETA: 2s - loss: 0.4239 - acc: 0.839 - ETA: 2s - loss: 0.4297 - acc: 0.828 - ETA: 2s - loss: 0.4246 - acc: 0.829 - ETA: 2s - loss: 0.4116 - acc: 0.843 - ETA: 1s - loss: 0.4003 - acc: 0.852 - ETA: 1s - loss: 0.4017 - acc: 0.859 - ETA: 1s - loss: 0.4070 - acc: 0.858 - ETA: 1s - loss: 0.4112 - acc: 0.852 - ETA: 1s - loss: 0.4102 - acc: 0.854 - ETA: 1s - loss: 0.4098 - acc: 0.857 - ETA: 1s - loss: 0.4045 - acc: 0.860 - ETA: 0s - loss: 0.4013 - acc: 0.861 - ETA: 0s - loss: 0.4044 - acc: 0.858 - ETA: 0s - loss: 0.4087 - acc: 0.851 - ETA: 0s - loss: 0.4088 - acc: 0.851 - ETA: 0s - loss: 0.4111 - acc: 0.848 - ETA: 0s - loss: 0.4132 - acc: 0.846 - 4s 5ms/step - loss: 0.4147 - acc: 0.8472 - val_loss: 0.4868 - val_acc: 0.7831\n",
      "Epoch 8/10\n",
      "746/746 [==============================] - ETA: 3s - loss: 0.2923 - acc: 0.875 - ETA: 3s - loss: 0.3687 - acc: 0.843 - ETA: 3s - loss: 0.3642 - acc: 0.875 - ETA: 2s - loss: 0.3982 - acc: 0.835 - ETA: 2s - loss: 0.3809 - acc: 0.850 - ETA: 2s - loss: 0.3804 - acc: 0.854 - ETA: 2s - loss: 0.3841 - acc: 0.843 - ETA: 2s - loss: 0.3782 - acc: 0.851 - ETA: 2s - loss: 0.3842 - acc: 0.850 - ETA: 2s - loss: 0.3909 - acc: 0.846 - ETA: 1s - loss: 0.3872 - acc: 0.846 - ETA: 1s - loss: 0.3827 - acc: 0.854 - ETA: 1s - loss: 0.3867 - acc: 0.851 - ETA: 1s - loss: 0.3912 - acc: 0.850 - ETA: 1s - loss: 0.3880 - acc: 0.850 - ETA: 1s - loss: 0.3837 - acc: 0.853 - ETA: 0s - loss: 0.3840 - acc: 0.851 - ETA: 0s - loss: 0.3840 - acc: 0.854 - ETA: 0s - loss: 0.3838 - acc: 0.856 - ETA: 0s - loss: 0.3855 - acc: 0.856 - ETA: 0s - loss: 0.3873 - acc: 0.855 - ETA: 0s - loss: 0.3935 - acc: 0.849 - ETA: 0s - loss: 0.3910 - acc: 0.849 - 4s 5ms/step - loss: 0.3908 - acc: 0.8499 - val_loss: 0.4774 - val_acc: 0.7711\n",
      "Epoch 9/10\n"
     ]
    },
    {
     "name": "stdout",
     "output_type": "stream",
     "text": [
      "746/746 [==============================] - ETA: 3s - loss: 0.4058 - acc: 0.843 - ETA: 3s - loss: 0.4023 - acc: 0.859 - ETA: 3s - loss: 0.3589 - acc: 0.885 - ETA: 3s - loss: 0.3744 - acc: 0.867 - ETA: 2s - loss: 0.3758 - acc: 0.862 - ETA: 2s - loss: 0.3795 - acc: 0.864 - ETA: 2s - loss: 0.3731 - acc: 0.870 - ETA: 2s - loss: 0.3696 - acc: 0.875 - ETA: 2s - loss: 0.3683 - acc: 0.871 - ETA: 2s - loss: 0.3786 - acc: 0.859 - ETA: 1s - loss: 0.3695 - acc: 0.866 - ETA: 1s - loss: 0.3653 - acc: 0.869 - ETA: 1s - loss: 0.3660 - acc: 0.870 - ETA: 1s - loss: 0.3660 - acc: 0.866 - ETA: 1s - loss: 0.3706 - acc: 0.862 - ETA: 1s - loss: 0.3825 - acc: 0.849 - ETA: 1s - loss: 0.3789 - acc: 0.854 - ETA: 0s - loss: 0.3776 - acc: 0.855 - ETA: 0s - loss: 0.3746 - acc: 0.860 - ETA: 0s - loss: 0.3720 - acc: 0.860 - ETA: 0s - loss: 0.3700 - acc: 0.863 - ETA: 0s - loss: 0.3687 - acc: 0.862 - ETA: 0s - loss: 0.3654 - acc: 0.864 - 4s 5ms/step - loss: 0.3648 - acc: 0.8646 - val_loss: 0.4756 - val_acc: 0.7831\n",
      "Epoch 10/10\n",
      "746/746 [==============================] - ETA: 3s - loss: 0.3548 - acc: 0.843 - ETA: 3s - loss: 0.3487 - acc: 0.890 - ETA: 3s - loss: 0.3663 - acc: 0.875 - ETA: 3s - loss: 0.3506 - acc: 0.875 - ETA: 2s - loss: 0.3441 - acc: 0.881 - ETA: 2s - loss: 0.3527 - acc: 0.869 - ETA: 2s - loss: 0.3554 - acc: 0.870 - ETA: 2s - loss: 0.3598 - acc: 0.867 - ETA: 2s - loss: 0.3486 - acc: 0.881 - ETA: 2s - loss: 0.3540 - acc: 0.881 - ETA: 1s - loss: 0.3588 - acc: 0.872 - ETA: 1s - loss: 0.3666 - acc: 0.867 - ETA: 1s - loss: 0.3595 - acc: 0.875 - ETA: 1s - loss: 0.3591 - acc: 0.872 - ETA: 1s - loss: 0.3514 - acc: 0.879 - ETA: 1s - loss: 0.3489 - acc: 0.882 - ETA: 1s - loss: 0.3463 - acc: 0.882 - ETA: 0s - loss: 0.3463 - acc: 0.885 - ETA: 0s - loss: 0.3422 - acc: 0.886 - ETA: 0s - loss: 0.3356 - acc: 0.890 - ETA: 0s - loss: 0.3356 - acc: 0.889 - ETA: 0s - loss: 0.3357 - acc: 0.890 - ETA: 0s - loss: 0.3335 - acc: 0.892 - 4s 6ms/step - loss: 0.3352 - acc: 0.8914 - val_loss: 0.4075 - val_acc: 0.8193\n"
     ]
    },
    {
     "data": {
      "text/plain": [
       "<keras.callbacks.History at 0x253aaef6c50>"
      ]
     },
     "execution_count": 13,
     "metadata": {},
     "output_type": "execute_result"
    }
   ],
   "source": [
    "model = Sequential()\n",
    "model.add(Bidirectional(GRU(hidden_size, input_shape=(timesteps, data_dim)), merge_mode='concat'))\n",
    "model.add(Dropout(0.5))\n",
    "model.add(Dense(1, activation='sigmoid'))\n",
    "model.compile(optimizer='adam', loss='binary_crossentropy', metrics=['accuracy'])\n",
    "model.fit(train_vecs, y_train, epochs=num_epochs, validation_data=[val_vecs, y_validation])"
   ]
  },
  {
   "cell_type": "code",
   "execution_count": null,
   "metadata": {
    "collapsed": true
   },
   "outputs": [],
   "source": [
    "# model.save('./model/bi_gru/bi_gru_model_01.h5')  "
   ]
  },
  {
   "cell_type": "code",
   "execution_count": 14,
   "metadata": {},
   "outputs": [
    {
     "name": "stdout",
     "output_type": "stream",
     "text": [
      "Accuracy:  0.8192771084337349\n",
      "             precision    recall  f1-score   support\n",
      "\n",
      "          0  0.91666667 0.80000000 0.85436893        55\n",
      "          1  0.68571429 0.85714286 0.76190476        28\n",
      "\n",
      "avg / total  0.83875502 0.81927711 0.82317620        83\n",
      "\n"
     ]
    }
   ],
   "source": [
    "# model = load_model('./model/bi_gru/bi_gru_model_01.h5')\n",
    "y_pred = model.predict(val_vecs)\n",
    "for i in range(len(y_pred)):\n",
    "    y_pred[i][0] = round(y_pred[i][0])\n",
    "\n",
    "print(\"Accuracy: \", accuracy_score(y_validation, y_pred))\n",
    "print(classification_report(y_validation, y_pred, labels = [0, 1], digits=8))"
   ]
  }
 ],
 "metadata": {
  "kernelspec": {
   "display_name": "Python 3",
   "language": "python",
   "name": "python3"
  },
  "language_info": {
   "codemirror_mode": {
    "name": "ipython",
    "version": 3
   },
   "file_extension": ".py",
   "mimetype": "text/x-python",
   "name": "python",
   "nbconvert_exporter": "python",
   "pygments_lexer": "ipython3",
   "version": "3.6.3"
  }
 },
 "nbformat": 4,
 "nbformat_minor": 2
}
