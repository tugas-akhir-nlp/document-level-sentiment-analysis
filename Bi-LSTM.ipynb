{
 "cells": [
  {
   "cell_type": "code",
   "execution_count": 1,
   "metadata": {},
   "outputs": [
    {
     "name": "stderr",
     "output_type": "stream",
     "text": [
      "C:\\Users\\User\\Anaconda3\\lib\\site-packages\\gensim\\utils.py:1212: UserWarning: detected Windows; aliasing chunkize to chunkize_serial\n",
      "  warnings.warn(\"detected Windows; aliasing chunkize to chunkize_serial\")\n",
      "C:\\Users\\User\\Anaconda3\\lib\\site-packages\\pattern-2.6-py3.6.egg\\pattern\\text\\en\\..\\..\\..\\..\\sklearn\\cross_validation.py:41: DeprecationWarning: This module was deprecated in version 0.18 in favor of the model_selection module into which all the refactored classes and functions are moved. Also note that the interface of the new CV iterators are different from that of this module. This module will be removed in 0.20.\n",
      "  \"This module will be removed in 0.20.\", DeprecationWarning)\n",
      "C:\\Users\\User\\Anaconda3\\lib\\site-packages\\h5py\\__init__.py:36: FutureWarning: Conversion of the second argument of issubdtype from `float` to `np.floating` is deprecated. In future, it will be treated as `np.float64 == np.dtype(float).type`.\n",
      "  from ._conv import register_converters as _register_converters\n",
      "Using TensorFlow backend.\n"
     ]
    }
   ],
   "source": [
    "import os\n",
    "import sys\n",
    "import gensim\n",
    "import pandas as pd\n",
    "from gensim.models.doc2vec import LabeledSentence\n",
    "from sklearn.cross_validation import train_test_split\n",
    "from gensim.models.word2vec import Word2Vec\n",
    "from tqdm import tqdm\n",
    "from sklearn import utils\n",
    "import numpy as np\n",
    "from keras import optimizers\n",
    "from keras.models import load_model\n",
    "from sklearn.metrics import accuracy_score, classification_report\n",
    "from keras.preprocessing import sequence\n",
    "from keras.models import Sequential\n",
    "from keras.layers import Dense, Dropout, Embedding, LSTM, Bidirectional"
   ]
  },
  {
   "cell_type": "code",
   "execution_count": 2,
   "metadata": {},
   "outputs": [
    {
     "data": {
      "text/html": [
       "<div>\n",
       "<style>\n",
       "    .dataframe thead tr:only-child th {\n",
       "        text-align: right;\n",
       "    }\n",
       "\n",
       "    .dataframe thead th {\n",
       "        text-align: left;\n",
       "    }\n",
       "\n",
       "    .dataframe tbody tr th {\n",
       "        vertical-align: top;\n",
       "    }\n",
       "</style>\n",
       "<table border=\"1\" class=\"dataframe\">\n",
       "  <thead>\n",
       "    <tr style=\"text-align: right;\">\n",
       "      <th></th>\n",
       "      <th>content</th>\n",
       "      <th>polarity</th>\n",
       "    </tr>\n",
       "  </thead>\n",
       "  <tbody>\n",
       "    <tr>\n",
       "      <th>0</th>\n",
       "      <td>lokasi hotel tidak jauh dari komplek mall kali...</td>\n",
       "      <td>negative</td>\n",
       "    </tr>\n",
       "    <tr>\n",
       "      <th>1</th>\n",
       "      <td>lokasi hotel tidak jauh dengan taksi ke area m...</td>\n",
       "      <td>negative</td>\n",
       "    </tr>\n",
       "    <tr>\n",
       "      <th>2</th>\n",
       "      <td>lokasi hotel yang sangat strategis masih di ko...</td>\n",
       "      <td>negative</td>\n",
       "    </tr>\n",
       "    <tr>\n",
       "      <th>3</th>\n",
       "      <td>lokasi hotel yang sangat strategis masih di ko...</td>\n",
       "      <td>negative</td>\n",
       "    </tr>\n",
       "    <tr>\n",
       "      <th>4</th>\n",
       "      <td>lokasi hotel yang strategis di tengah kota dan...</td>\n",
       "      <td>negative</td>\n",
       "    </tr>\n",
       "  </tbody>\n",
       "</table>\n",
       "</div>"
      ],
      "text/plain": [
       "                                             content  polarity\n",
       "0  lokasi hotel tidak jauh dari komplek mall kali...  negative\n",
       "1  lokasi hotel tidak jauh dengan taksi ke area m...  negative\n",
       "2  lokasi hotel yang sangat strategis masih di ko...  negative\n",
       "3  lokasi hotel yang sangat strategis masih di ko...  negative\n",
       "4  lokasi hotel yang strategis di tengah kota dan...  negative"
      ]
     },
     "execution_count": 2,
     "metadata": {},
     "output_type": "execute_result"
    }
   ],
   "source": [
    "# train_set = pd.read_csv('./corpus/tripadvisor/train_set.csv')\n",
    "test_set = pd.read_csv('./corpus/tripadvisor/test.csv')\n",
    "test_set.head()"
   ]
  },
  {
   "cell_type": "code",
   "execution_count": 3,
   "metadata": {
    "collapsed": true
   },
   "outputs": [],
   "source": [
    "def sentiment_label(polarity):\n",
    "    if polarity=='negative':\n",
    "        return 0\n",
    "    else:\n",
    "        return 1"
   ]
  },
  {
   "cell_type": "code",
   "execution_count": 4,
   "metadata": {},
   "outputs": [
    {
     "data": {
      "text/html": [
       "<div>\n",
       "<style>\n",
       "    .dataframe thead tr:only-child th {\n",
       "        text-align: right;\n",
       "    }\n",
       "\n",
       "    .dataframe thead th {\n",
       "        text-align: left;\n",
       "    }\n",
       "\n",
       "    .dataframe tbody tr th {\n",
       "        vertical-align: top;\n",
       "    }\n",
       "</style>\n",
       "<table border=\"1\" class=\"dataframe\">\n",
       "  <thead>\n",
       "    <tr style=\"text-align: right;\">\n",
       "      <th></th>\n",
       "      <th>content</th>\n",
       "      <th>polarity</th>\n",
       "      <th>sentiment</th>\n",
       "    </tr>\n",
       "  </thead>\n",
       "  <tbody>\n",
       "    <tr>\n",
       "      <th>0</th>\n",
       "      <td>lokasi hotel tidak jauh dari komplek mall kali...</td>\n",
       "      <td>negative</td>\n",
       "      <td>0</td>\n",
       "    </tr>\n",
       "    <tr>\n",
       "      <th>1</th>\n",
       "      <td>lokasi hotel tidak jauh dengan taksi ke area m...</td>\n",
       "      <td>negative</td>\n",
       "      <td>0</td>\n",
       "    </tr>\n",
       "    <tr>\n",
       "      <th>2</th>\n",
       "      <td>lokasi hotel yang sangat strategis masih di ko...</td>\n",
       "      <td>negative</td>\n",
       "      <td>0</td>\n",
       "    </tr>\n",
       "    <tr>\n",
       "      <th>3</th>\n",
       "      <td>lokasi hotel yang sangat strategis masih di ko...</td>\n",
       "      <td>negative</td>\n",
       "      <td>0</td>\n",
       "    </tr>\n",
       "    <tr>\n",
       "      <th>4</th>\n",
       "      <td>lokasi hotel yang strategis di tengah kota dan...</td>\n",
       "      <td>negative</td>\n",
       "      <td>0</td>\n",
       "    </tr>\n",
       "  </tbody>\n",
       "</table>\n",
       "</div>"
      ],
      "text/plain": [
       "                                             content  polarity  sentiment\n",
       "0  lokasi hotel tidak jauh dari komplek mall kali...  negative          0\n",
       "1  lokasi hotel tidak jauh dengan taksi ke area m...  negative          0\n",
       "2  lokasi hotel yang sangat strategis masih di ko...  negative          0\n",
       "3  lokasi hotel yang sangat strategis masih di ko...  negative          0\n",
       "4  lokasi hotel yang strategis di tengah kota dan...  negative          0"
      ]
     },
     "execution_count": 4,
     "metadata": {},
     "output_type": "execute_result"
    }
   ],
   "source": [
    "# train_set['sentiment'] = train_set['polarity'].apply(sentiment_label)\n",
    "test_set['sentiment'] = test_set['polarity'].apply(sentiment_label)\n",
    "test_set.head()"
   ]
  },
  {
   "cell_type": "code",
   "execution_count": 5,
   "metadata": {
    "collapsed": true
   },
   "outputs": [],
   "source": [
    "SEED = 2000\n",
    "\n",
    "x_train, x_validation, y_train, y_validation = train_test_split(test_set['content'], test_set['sentiment'], test_size=.1, random_state=SEED)"
   ]
  },
  {
   "cell_type": "code",
   "execution_count": 6,
   "metadata": {
    "collapsed": true
   },
   "outputs": [],
   "source": [
    "# x_train = train_set['content']\n",
    "# x_validation = test_set['content']\n",
    "# y_train = train_set['sentiment']\n",
    "# y_validation = test_set['sentiment']"
   ]
  },
  {
   "cell_type": "code",
   "execution_count": 6,
   "metadata": {},
   "outputs": [
    {
     "name": "stderr",
     "output_type": "stream",
     "text": [
      "C:\\Users\\User\\Anaconda3\\lib\\site-packages\\ipykernel_launcher.py:5: DeprecationWarning: Call to deprecated `LabeledSentence` (Class will be removed in 4.0.0, use TaggedDocument instead).\n",
      "  \"\"\"\n"
     ]
    }
   ],
   "source": [
    "def labelize_text(text,label):\n",
    "    result = []\n",
    "    prefix = label\n",
    "    for i, t in zip(text.index, text):\n",
    "        result.append(LabeledSentence(t.split(), [prefix + '_%s' % i]))\n",
    "    return result\n",
    "  \n",
    "x_train = labelize_text(x_train, 'TRAIN')\n",
    "x_validation = labelize_text(x_validation, 'TEST')"
   ]
  },
  {
   "cell_type": "code",
   "execution_count": 7,
   "metadata": {
    "collapsed": true
   },
   "outputs": [],
   "source": [
    "MAX_SEQUENCE_LENGTH = 85\n",
    "data_dim = 500"
   ]
  },
  {
   "cell_type": "code",
   "execution_count": 8,
   "metadata": {
    "collapsed": true
   },
   "outputs": [],
   "source": [
    "word2vec = Word2Vec.load('./prosa-w2v/prosa.vec')\n",
    "# word2vec = Word2Vec.load(\"./vectorizer/tripadvisor/word2vec_300.model\")"
   ]
  },
  {
   "cell_type": "code",
   "execution_count": 9,
   "metadata": {
    "collapsed": true
   },
   "outputs": [],
   "source": [
    "def build_Word_Vector(tokens, size):\n",
    "    vec = np.zeros((MAX_SEQUENCE_LENGTH - len(tokens), size))\n",
    "    for word in tokens:\n",
    "        try:\n",
    "            vec = np.append(vec, word2vec[word])\n",
    "        except KeyError: \n",
    "            vec = np.append(vec, np.zeros((1, size)))\n",
    "            continue\n",
    "    vec.reshape(MAX_SEQUENCE_LENGTH, size)\n",
    "    return vec"
   ]
  },
  {
   "cell_type": "code",
   "execution_count": 10,
   "metadata": {},
   "outputs": [
    {
     "name": "stderr",
     "output_type": "stream",
     "text": [
      "0it [00:00, ?it/s]C:\\Users\\User\\Anaconda3\\lib\\site-packages\\ipykernel_launcher.py:5: DeprecationWarning: Call to deprecated `__getitem__` (Method will be removed in 4.0.0, use self.wv.__getitem__() instead).\n",
      "  \"\"\"\n",
      "746it [00:01, 431.83it/s]\n",
      "83it [00:00, 395.68it/s]\n"
     ]
    }
   ],
   "source": [
    "train_vecs = np.concatenate([[build_Word_Vector(z, 500)] for z in tqdm(map(lambda x: x.words, x_train))])\n",
    "val_vecs = np.concatenate([[build_Word_Vector(z, 500)] for z in tqdm(map(lambda x: x.words, x_validation))])"
   ]
  },
  {
   "cell_type": "code",
   "execution_count": 11,
   "metadata": {
    "collapsed": true
   },
   "outputs": [],
   "source": [
    "batch_size = 56\n",
    "num_epochs = 10\n",
    "hidden_size = 10\n",
    "timesteps = MAX_SEQUENCE_LENGTH\n",
    "num_class = 1"
   ]
  },
  {
   "cell_type": "code",
   "execution_count": 12,
   "metadata": {},
   "outputs": [
    {
     "name": "stderr",
     "output_type": "stream",
     "text": [
      "C:\\Users\\User\\Anaconda3\\lib\\site-packages\\ipykernel_launcher.py:5: FutureWarning: reshape is deprecated and will raise in a subsequent release. Please use .values.reshape(...) instead\n",
      "  \"\"\"\n",
      "C:\\Users\\User\\Anaconda3\\lib\\site-packages\\ipykernel_launcher.py:7: FutureWarning: reshape is deprecated and will raise in a subsequent release. Please use .values.reshape(...) instead\n",
      "  import sys\n"
     ]
    }
   ],
   "source": [
    "num_data = len(train_vecs)\n",
    "num_data_val = len(val_vecs)\n",
    "\n",
    "train_vecs = train_vecs.reshape((num_data, timesteps, data_dim))\n",
    "y_train = y_train.reshape((num_data, num_class))\n",
    "val_vecs = val_vecs.reshape((num_data_val, timesteps, data_dim))\n",
    "y_validation = y_validation.reshape((num_data_val, num_class))"
   ]
  },
  {
   "cell_type": "code",
   "execution_count": 13,
   "metadata": {},
   "outputs": [
    {
     "name": "stdout",
     "output_type": "stream",
     "text": [
      "Train on 746 samples, validate on 83 samples\n",
      "Epoch 1/10\n",
      "746/746 [==============================] - ETA: 56s - loss: 0.6712 - acc: 0.59 - ETA: 29s - loss: 0.6804 - acc: 0.57 - ETA: 19s - loss: 0.7005 - acc: 0.52 - ETA: 15s - loss: 0.7070 - acc: 0.50 - ETA: 12s - loss: 0.7074 - acc: 0.50 - ETA: 10s - loss: 0.7028 - acc: 0.52 - ETA: 8s - loss: 0.6960 - acc: 0.5446 - ETA: 7s - loss: 0.6935 - acc: 0.550 - ETA: 6s - loss: 0.6886 - acc: 0.552 - ETA: 5s - loss: 0.6837 - acc: 0.565 - ETA: 4s - loss: 0.6782 - acc: 0.576 - ETA: 4s - loss: 0.6795 - acc: 0.570 - ETA: 3s - loss: 0.6811 - acc: 0.572 - ETA: 3s - loss: 0.6762 - acc: 0.580 - ETA: 2s - loss: 0.6739 - acc: 0.581 - ETA: 2s - loss: 0.6711 - acc: 0.584 - ETA: 2s - loss: 0.6730 - acc: 0.580 - ETA: 1s - loss: 0.6679 - acc: 0.590 - ETA: 1s - loss: 0.6629 - acc: 0.600 - ETA: 1s - loss: 0.6629 - acc: 0.598 - ETA: 0s - loss: 0.6614 - acc: 0.599 - ETA: 0s - loss: 0.6615 - acc: 0.602 - ETA: 0s - loss: 0.6607 - acc: 0.600 - 7s 10ms/step - loss: 0.6601 - acc: 0.6005 - val_loss: 0.6016 - val_acc: 0.7229\n",
      "Epoch 2/10\n",
      "746/746 [==============================] - ETA: 3s - loss: 0.6494 - acc: 0.687 - ETA: 3s - loss: 0.6055 - acc: 0.734 - ETA: 3s - loss: 0.5919 - acc: 0.739 - ETA: 3s - loss: 0.6039 - acc: 0.703 - ETA: 3s - loss: 0.6055 - acc: 0.687 - ETA: 3s - loss: 0.6037 - acc: 0.708 - ETA: 2s - loss: 0.5869 - acc: 0.727 - ETA: 2s - loss: 0.5852 - acc: 0.722 - ETA: 2s - loss: 0.5884 - acc: 0.715 - ETA: 2s - loss: 0.5835 - acc: 0.712 - ETA: 2s - loss: 0.5868 - acc: 0.718 - ETA: 2s - loss: 0.6001 - acc: 0.705 - ETA: 1s - loss: 0.6054 - acc: 0.697 - ETA: 1s - loss: 0.6014 - acc: 0.705 - ETA: 1s - loss: 0.5963 - acc: 0.708 - ETA: 1s - loss: 0.5945 - acc: 0.703 - ETA: 1s - loss: 0.5963 - acc: 0.696 - ETA: 0s - loss: 0.5965 - acc: 0.692 - ETA: 0s - loss: 0.5956 - acc: 0.695 - ETA: 0s - loss: 0.5936 - acc: 0.701 - ETA: 0s - loss: 0.5907 - acc: 0.703 - ETA: 0s - loss: 0.5925 - acc: 0.700 - ETA: 0s - loss: 0.5948 - acc: 0.699 - 5s 6ms/step - loss: 0.5936 - acc: 0.7011 - val_loss: 0.5573 - val_acc: 0.7590\n",
      "Epoch 3/10\n",
      "746/746 [==============================] - ETA: 3s - loss: 0.4818 - acc: 0.875 - ETA: 3s - loss: 0.4553 - acc: 0.890 - ETA: 3s - loss: 0.4970 - acc: 0.822 - ETA: 3s - loss: 0.5201 - acc: 0.796 - ETA: 3s - loss: 0.5340 - acc: 0.781 - ETA: 3s - loss: 0.5274 - acc: 0.781 - ETA: 2s - loss: 0.5103 - acc: 0.794 - ETA: 2s - loss: 0.5212 - acc: 0.785 - ETA: 2s - loss: 0.5221 - acc: 0.788 - ETA: 2s - loss: 0.5253 - acc: 0.781 - ETA: 2s - loss: 0.5221 - acc: 0.781 - ETA: 2s - loss: 0.5254 - acc: 0.773 - ETA: 1s - loss: 0.5251 - acc: 0.776 - ETA: 1s - loss: 0.5226 - acc: 0.772 - ETA: 1s - loss: 0.5185 - acc: 0.770 - ETA: 1s - loss: 0.5199 - acc: 0.771 - ETA: 1s - loss: 0.5132 - acc: 0.779 - ETA: 0s - loss: 0.5092 - acc: 0.779 - ETA: 0s - loss: 0.5139 - acc: 0.774 - ETA: 0s - loss: 0.5145 - acc: 0.773 - ETA: 0s - loss: 0.5146 - acc: 0.773 - ETA: 0s - loss: 0.5184 - acc: 0.768 - ETA: 0s - loss: 0.5134 - acc: 0.774 - 5s 6ms/step - loss: 0.5117 - acc: 0.7748 - val_loss: 0.4624 - val_acc: 0.8193\n",
      "Epoch 4/10\n",
      "746/746 [==============================] - ETA: 3s - loss: 0.5175 - acc: 0.718 - ETA: 3s - loss: 0.4573 - acc: 0.781 - ETA: 3s - loss: 0.4708 - acc: 0.822 - ETA: 3s - loss: 0.4682 - acc: 0.820 - ETA: 3s - loss: 0.4560 - acc: 0.831 - ETA: 3s - loss: 0.4439 - acc: 0.849 - ETA: 2s - loss: 0.4412 - acc: 0.848 - ETA: 2s - loss: 0.4334 - acc: 0.855 - ETA: 2s - loss: 0.4265 - acc: 0.868 - ETA: 2s - loss: 0.4184 - acc: 0.871 - ETA: 2s - loss: 0.4130 - acc: 0.869 - ETA: 2s - loss: 0.4068 - acc: 0.869 - ETA: 1s - loss: 0.4084 - acc: 0.863 - ETA: 1s - loss: 0.4010 - acc: 0.870 - ETA: 1s - loss: 0.3920 - acc: 0.872 - ETA: 1s - loss: 0.3875 - acc: 0.878 - ETA: 1s - loss: 0.3782 - acc: 0.882 - ETA: 0s - loss: 0.3751 - acc: 0.881 - ETA: 0s - loss: 0.3701 - acc: 0.888 - ETA: 0s - loss: 0.3662 - acc: 0.890 - ETA: 0s - loss: 0.3601 - acc: 0.894 - ETA: 0s - loss: 0.3568 - acc: 0.894 - ETA: 0s - loss: 0.3554 - acc: 0.891 - 4s 6ms/step - loss: 0.3530 - acc: 0.8928 - val_loss: 0.2602 - val_acc: 0.9157\n",
      "Epoch 5/10\n",
      "746/746 [==============================] - ETA: 3s - loss: 0.2425 - acc: 0.937 - ETA: 3s - loss: 0.2407 - acc: 0.968 - ETA: 3s - loss: 0.2341 - acc: 0.958 - ETA: 3s - loss: 0.2378 - acc: 0.953 - ETA: 3s - loss: 0.2394 - acc: 0.956 - ETA: 3s - loss: 0.2374 - acc: 0.958 - ETA: 2s - loss: 0.2314 - acc: 0.964 - ETA: 2s - loss: 0.2249 - acc: 0.968 - ETA: 2s - loss: 0.2265 - acc: 0.965 - ETA: 2s - loss: 0.2260 - acc: 0.965 - ETA: 2s - loss: 0.2196 - acc: 0.968 - ETA: 2s - loss: 0.2169 - acc: 0.968 - ETA: 1s - loss: 0.2146 - acc: 0.968 - ETA: 1s - loss: 0.2106 - acc: 0.971 - ETA: 1s - loss: 0.2077 - acc: 0.970 - ETA: 1s - loss: 0.2059 - acc: 0.970 - ETA: 1s - loss: 0.2062 - acc: 0.970 - ETA: 0s - loss: 0.2047 - acc: 0.970 - ETA: 0s - loss: 0.2038 - acc: 0.970 - ETA: 0s - loss: 0.2017 - acc: 0.971 - ETA: 0s - loss: 0.2008 - acc: 0.973 - ETA: 0s - loss: 0.1990 - acc: 0.973 - ETA: 0s - loss: 0.1982 - acc: 0.972 - 5s 6ms/step - loss: 0.1986 - acc: 0.9732 - val_loss: 0.1868 - val_acc: 0.9639\n",
      "Epoch 6/10\n",
      "746/746 [==============================] - ETA: 3s - loss: 0.1873 - acc: 0.968 - ETA: 3s - loss: 0.1755 - acc: 0.984 - ETA: 3s - loss: 0.1725 - acc: 0.989 - ETA: 3s - loss: 0.1859 - acc: 0.984 - ETA: 3s - loss: 0.1843 - acc: 0.981 - ETA: 3s - loss: 0.1793 - acc: 0.984 - ETA: 2s - loss: 0.1704 - acc: 0.986 - ETA: 2s - loss: 0.1677 - acc: 0.984 - ETA: 2s - loss: 0.1646 - acc: 0.982 - ETA: 2s - loss: 0.1643 - acc: 0.984 - ETA: 2s - loss: 0.1600 - acc: 0.985 - ETA: 2s - loss: 0.1629 - acc: 0.984 - ETA: 1s - loss: 0.1597 - acc: 0.985 - ETA: 1s - loss: 0.1572 - acc: 0.984 - ETA: 1s - loss: 0.1558 - acc: 0.983 - ETA: 1s - loss: 0.1552 - acc: 0.982 - ETA: 1s - loss: 0.1518 - acc: 0.983 - ETA: 0s - loss: 0.1487 - acc: 0.984 - ETA: 0s - loss: 0.1482 - acc: 0.985 - ETA: 0s - loss: 0.1466 - acc: 0.984 - ETA: 0s - loss: 0.1466 - acc: 0.983 - ETA: 0s - loss: 0.1457 - acc: 0.984 - ETA: 0s - loss: 0.1494 - acc: 0.982 - 5s 6ms/step - loss: 0.1493 - acc: 0.9826 - val_loss: 0.1537 - val_acc: 0.9880\n",
      "Epoch 7/10\n",
      "746/746 [==============================] - ETA: 3s - loss: 0.1197 - acc: 1.000 - ETA: 3s - loss: 0.1140 - acc: 1.000 - ETA: 3s - loss: 0.1028 - acc: 1.000 - ETA: 3s - loss: 0.1117 - acc: 1.000 - ETA: 3s - loss: 0.1211 - acc: 0.987 - ETA: 3s - loss: 0.1176 - acc: 0.989 - ETA: 3s - loss: 0.1199 - acc: 0.991 - ETA: 2s - loss: 0.1164 - acc: 0.992 - ETA: 2s - loss: 0.1143 - acc: 0.993 - ETA: 2s - loss: 0.1140 - acc: 0.993 - ETA: 2s - loss: 0.1129 - acc: 0.994 - ETA: 2s - loss: 0.1119 - acc: 0.994 - ETA: 1s - loss: 0.1110 - acc: 0.995 - ETA: 1s - loss: 0.1152 - acc: 0.993 - ETA: 1s - loss: 0.1132 - acc: 0.993 - ETA: 1s - loss: 0.1121 - acc: 0.994 - ETA: 1s - loss: 0.1148 - acc: 0.990 - ETA: 0s - loss: 0.1158 - acc: 0.989 - ETA: 0s - loss: 0.1134 - acc: 0.990 - ETA: 0s - loss: 0.1115 - acc: 0.990 - ETA: 0s - loss: 0.1121 - acc: 0.991 - ETA: 0s - loss: 0.1135 - acc: 0.991 - ETA: 0s - loss: 0.1116 - acc: 0.991 - 5s 6ms/step - loss: 0.1114 - acc: 0.9920 - val_loss: 0.1296 - val_acc: 0.9880\n",
      "Epoch 8/10\n",
      "746/746 [==============================] - ETA: 3s - loss: 0.1227 - acc: 1.000 - ETA: 3s - loss: 0.1156 - acc: 1.000 - ETA: 3s - loss: 0.1131 - acc: 1.000 - ETA: 3s - loss: 0.1182 - acc: 0.992 - ETA: 3s - loss: 0.1114 - acc: 0.993 - ETA: 3s - loss: 0.1076 - acc: 0.994 - ETA: 2s - loss: 0.1001 - acc: 0.995 - ETA: 2s - loss: 0.1000 - acc: 0.996 - ETA: 2s - loss: 0.0967 - acc: 0.996 - ETA: 2s - loss: 0.0963 - acc: 0.996 - ETA: 2s - loss: 0.1001 - acc: 0.994 - ETA: 2s - loss: 0.1034 - acc: 0.987 - ETA: 1s - loss: 0.1099 - acc: 0.983 - ETA: 1s - loss: 0.1070 - acc: 0.984 - ETA: 1s - loss: 0.1053 - acc: 0.985 - ETA: 1s - loss: 0.1060 - acc: 0.984 - ETA: 1s - loss: 0.1039 - acc: 0.985 - ETA: 0s - loss: 0.1026 - acc: 0.986 - ETA: 0s - loss: 0.1025 - acc: 0.985 - ETA: 0s - loss: 0.1006 - acc: 0.985 - ETA: 0s - loss: 0.0989 - acc: 0.986 - ETA: 0s - loss: 0.0991 - acc: 0.987 - ETA: 0s - loss: 0.0988 - acc: 0.987 - 5s 6ms/step - loss: 0.0992 - acc: 0.9879 - val_loss: 0.1138 - val_acc: 0.9880\n",
      "Epoch 9/10\n"
     ]
    },
    {
     "name": "stdout",
     "output_type": "stream",
     "text": [
      "746/746 [==============================] - ETA: 3s - loss: 0.0786 - acc: 0.968 - ETA: 3s - loss: 0.0967 - acc: 0.968 - ETA: 3s - loss: 0.0871 - acc: 0.979 - ETA: 3s - loss: 0.0802 - acc: 0.984 - ETA: 3s - loss: 0.0852 - acc: 0.987 - ETA: 3s - loss: 0.0821 - acc: 0.989 - ETA: 3s - loss: 0.0815 - acc: 0.986 - ETA: 2s - loss: 0.0766 - acc: 0.988 - ETA: 2s - loss: 0.0836 - acc: 0.982 - ETA: 2s - loss: 0.0839 - acc: 0.984 - ETA: 2s - loss: 0.0853 - acc: 0.985 - ETA: 2s - loss: 0.0854 - acc: 0.984 - ETA: 1s - loss: 0.0835 - acc: 0.985 - ETA: 1s - loss: 0.0833 - acc: 0.986 - ETA: 1s - loss: 0.0823 - acc: 0.987 - ETA: 1s - loss: 0.0816 - acc: 0.986 - ETA: 1s - loss: 0.0812 - acc: 0.987 - ETA: 0s - loss: 0.0804 - acc: 0.987 - ETA: 0s - loss: 0.0803 - acc: 0.988 - ETA: 0s - loss: 0.0809 - acc: 0.989 - ETA: 0s - loss: 0.0790 - acc: 0.989 - ETA: 0s - loss: 0.0775 - acc: 0.990 - ETA: 0s - loss: 0.0770 - acc: 0.990 - 5s 6ms/step - loss: 0.0773 - acc: 0.9906 - val_loss: 0.1001 - val_acc: 0.9880\n",
      "Epoch 10/10\n",
      "746/746 [==============================] - ETA: 3s - loss: 0.0495 - acc: 1.000 - ETA: 3s - loss: 0.0659 - acc: 1.000 - ETA: 3s - loss: 0.0624 - acc: 1.000 - ETA: 3s - loss: 0.0606 - acc: 1.000 - ETA: 3s - loss: 0.0586 - acc: 1.000 - ETA: 3s - loss: 0.0603 - acc: 1.000 - ETA: 2s - loss: 0.0700 - acc: 1.000 - ETA: 2s - loss: 0.0655 - acc: 1.000 - ETA: 2s - loss: 0.0683 - acc: 1.000 - ETA: 2s - loss: 0.0705 - acc: 0.996 - ETA: 2s - loss: 0.0746 - acc: 0.997 - ETA: 2s - loss: 0.0730 - acc: 0.997 - ETA: 1s - loss: 0.0722 - acc: 0.997 - ETA: 1s - loss: 0.0730 - acc: 0.997 - ETA: 1s - loss: 0.0725 - acc: 0.997 - ETA: 1s - loss: 0.0716 - acc: 0.998 - ETA: 1s - loss: 0.0702 - acc: 0.998 - ETA: 0s - loss: 0.0688 - acc: 0.998 - ETA: 0s - loss: 0.0675 - acc: 0.998 - ETA: 0s - loss: 0.0667 - acc: 0.998 - ETA: 0s - loss: 0.0661 - acc: 0.998 - ETA: 0s - loss: 0.0645 - acc: 0.998 - ETA: 0s - loss: 0.0637 - acc: 0.998 - 5s 6ms/step - loss: 0.0640 - acc: 0.9987 - val_loss: 0.0962 - val_acc: 0.9880\n"
     ]
    },
    {
     "data": {
      "text/plain": [
       "<keras.callbacks.History at 0x23c1722ac50>"
      ]
     },
     "execution_count": 13,
     "metadata": {},
     "output_type": "execute_result"
    }
   ],
   "source": [
    "model = Sequential()\n",
    "model.add(Bidirectional(LSTM(hidden_size, input_shape=(timesteps, data_dim)), merge_mode='concat'))\n",
    "model.add(Dropout(0.5))\n",
    "model.add(Dense(1, activation='sigmoid'))\n",
    "model.compile(optimizer='adam', loss='binary_crossentropy', metrics=['accuracy'])\n",
    "model.fit(train_vecs, y_train, epochs=num_epochs, validation_data=[val_vecs, y_validation])"
   ]
  },
  {
   "cell_type": "code",
   "execution_count": null,
   "metadata": {
    "collapsed": true
   },
   "outputs": [],
   "source": [
    "# model.save('./model/bi_lstm/bi_lstm_model_01.h5')  "
   ]
  },
  {
   "cell_type": "code",
   "execution_count": 14,
   "metadata": {},
   "outputs": [
    {
     "name": "stdout",
     "output_type": "stream",
     "text": [
      "Accuracy:  0.9879518072289156\n",
      "             precision    recall  f1-score   support\n",
      "\n",
      "          0  0.98214286 1.00000000 0.99099099        55\n",
      "          1  1.00000000 0.96428571 0.98181818        28\n",
      "\n",
      "avg / total  0.98816695 0.98795181 0.98789655        83\n",
      "\n"
     ]
    }
   ],
   "source": [
    "# model = load_model('./model/bi_lstm/bi_lstm_model_01.h5')\n",
    "y_pred = model.predict(val_vecs)\n",
    "for i in range(len(y_pred)):\n",
    "    y_pred[i][0] = round(y_pred[i][0])\n",
    "\n",
    "print(\"Accuracy: \", accuracy_score(y_validation, y_pred))\n",
    "print(classification_report(y_validation, y_pred, labels = [0, 1], digits=8))"
   ]
  }
 ],
 "metadata": {
  "kernelspec": {
   "display_name": "Python 3",
   "language": "python",
   "name": "python3"
  },
  "language_info": {
   "codemirror_mode": {
    "name": "ipython",
    "version": 3
   },
   "file_extension": ".py",
   "mimetype": "text/x-python",
   "name": "python",
   "nbconvert_exporter": "python",
   "pygments_lexer": "ipython3",
   "version": "3.6.3"
  }
 },
 "nbformat": 4,
 "nbformat_minor": 2
}
