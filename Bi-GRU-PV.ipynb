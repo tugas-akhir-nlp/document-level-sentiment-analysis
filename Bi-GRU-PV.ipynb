{
 "cells": [
  {
   "cell_type": "code",
   "execution_count": 1,
   "metadata": {},
   "outputs": [
    {
     "name": "stderr",
     "output_type": "stream",
     "text": [
      "C:\\Users\\User\\Anaconda3\\lib\\site-packages\\gensim\\utils.py:1212: UserWarning: detected Windows; aliasing chunkize to chunkize_serial\n",
      "  warnings.warn(\"detected Windows; aliasing chunkize to chunkize_serial\")\n",
      "C:\\Users\\User\\Anaconda3\\lib\\site-packages\\pattern-2.6-py3.6.egg\\pattern\\text\\en\\..\\..\\..\\..\\sklearn\\cross_validation.py:41: DeprecationWarning: This module was deprecated in version 0.18 in favor of the model_selection module into which all the refactored classes and functions are moved. Also note that the interface of the new CV iterators are different from that of this module. This module will be removed in 0.20.\n",
      "  \"This module will be removed in 0.20.\", DeprecationWarning)\n",
      "C:\\Users\\User\\Anaconda3\\lib\\site-packages\\h5py\\__init__.py:36: FutureWarning: Conversion of the second argument of issubdtype from `float` to `np.floating` is deprecated. In future, it will be treated as `np.float64 == np.dtype(float).type`.\n",
      "  from ._conv import register_converters as _register_converters\n",
      "Using TensorFlow backend.\n"
     ]
    }
   ],
   "source": [
    "import os\n",
    "import sys\n",
    "import gensim\n",
    "import pandas as pd\n",
    "import pickle\n",
    "from gensim.models.doc2vec import LabeledSentence\n",
    "from gensim.models import Doc2Vec\n",
    "from sklearn.cross_validation import train_test_split\n",
    "from gensim.models.word2vec import Word2Vec\n",
    "from tqdm import tqdm\n",
    "from sklearn import utils\n",
    "import numpy as np\n",
    "from keras import optimizers\n",
    "from keras.models import load_model\n",
    "from sklearn.metrics import accuracy_score, classification_report\n",
    "from keras.preprocessing import sequence\n",
    "from keras.models import Sequential\n",
    "from keras.layers import Dense, Dropout, Embedding, GRU, Bidirectional"
   ]
  },
  {
   "cell_type": "code",
   "execution_count": 2,
   "metadata": {},
   "outputs": [
    {
     "data": {
      "text/html": [
       "<div>\n",
       "<style>\n",
       "    .dataframe thead tr:only-child th {\n",
       "        text-align: right;\n",
       "    }\n",
       "\n",
       "    .dataframe thead th {\n",
       "        text-align: left;\n",
       "    }\n",
       "\n",
       "    .dataframe tbody tr th {\n",
       "        vertical-align: top;\n",
       "    }\n",
       "</style>\n",
       "<table border=\"1\" class=\"dataframe\">\n",
       "  <thead>\n",
       "    <tr style=\"text-align: right;\">\n",
       "      <th></th>\n",
       "      <th>content</th>\n",
       "      <th>polarity</th>\n",
       "    </tr>\n",
       "  </thead>\n",
       "  <tbody>\n",
       "    <tr>\n",
       "      <th>0</th>\n",
       "      <td>lokasi hotel tidak jauh dari komplek mall kali...</td>\n",
       "      <td>negative</td>\n",
       "    </tr>\n",
       "    <tr>\n",
       "      <th>1</th>\n",
       "      <td>lokasi hotel tidak jauh dengan taksi ke area m...</td>\n",
       "      <td>negative</td>\n",
       "    </tr>\n",
       "    <tr>\n",
       "      <th>2</th>\n",
       "      <td>lokasi hotel yang sangat strategis masih di ko...</td>\n",
       "      <td>negative</td>\n",
       "    </tr>\n",
       "    <tr>\n",
       "      <th>3</th>\n",
       "      <td>lokasi hotel yang sangat strategis masih di ko...</td>\n",
       "      <td>negative</td>\n",
       "    </tr>\n",
       "    <tr>\n",
       "      <th>4</th>\n",
       "      <td>lokasi hotel yang strategis di tengah kota dan...</td>\n",
       "      <td>negative</td>\n",
       "    </tr>\n",
       "  </tbody>\n",
       "</table>\n",
       "</div>"
      ],
      "text/plain": [
       "                                             content  polarity\n",
       "0  lokasi hotel tidak jauh dari komplek mall kali...  negative\n",
       "1  lokasi hotel tidak jauh dengan taksi ke area m...  negative\n",
       "2  lokasi hotel yang sangat strategis masih di ko...  negative\n",
       "3  lokasi hotel yang sangat strategis masih di ko...  negative\n",
       "4  lokasi hotel yang strategis di tengah kota dan...  negative"
      ]
     },
     "execution_count": 2,
     "metadata": {},
     "output_type": "execute_result"
    }
   ],
   "source": [
    "# train_set = pd.read_csv('./corpus/tripadvisor/train_set.csv')\n",
    "test_set = pd.read_csv('./corpus/tripadvisor/test.csv')\n",
    "test_set.head()"
   ]
  },
  {
   "cell_type": "code",
   "execution_count": 3,
   "metadata": {
    "collapsed": true
   },
   "outputs": [],
   "source": [
    "def sentiment_label(polarity):\n",
    "    if polarity=='negative':\n",
    "        return 0\n",
    "    else:\n",
    "        return 1"
   ]
  },
  {
   "cell_type": "code",
   "execution_count": 4,
   "metadata": {},
   "outputs": [
    {
     "data": {
      "text/html": [
       "<div>\n",
       "<style>\n",
       "    .dataframe thead tr:only-child th {\n",
       "        text-align: right;\n",
       "    }\n",
       "\n",
       "    .dataframe thead th {\n",
       "        text-align: left;\n",
       "    }\n",
       "\n",
       "    .dataframe tbody tr th {\n",
       "        vertical-align: top;\n",
       "    }\n",
       "</style>\n",
       "<table border=\"1\" class=\"dataframe\">\n",
       "  <thead>\n",
       "    <tr style=\"text-align: right;\">\n",
       "      <th></th>\n",
       "      <th>content</th>\n",
       "      <th>polarity</th>\n",
       "      <th>sentiment</th>\n",
       "    </tr>\n",
       "  </thead>\n",
       "  <tbody>\n",
       "    <tr>\n",
       "      <th>0</th>\n",
       "      <td>lokasi hotel tidak jauh dari komplek mall kali...</td>\n",
       "      <td>negative</td>\n",
       "      <td>0</td>\n",
       "    </tr>\n",
       "    <tr>\n",
       "      <th>1</th>\n",
       "      <td>lokasi hotel tidak jauh dengan taksi ke area m...</td>\n",
       "      <td>negative</td>\n",
       "      <td>0</td>\n",
       "    </tr>\n",
       "    <tr>\n",
       "      <th>2</th>\n",
       "      <td>lokasi hotel yang sangat strategis masih di ko...</td>\n",
       "      <td>negative</td>\n",
       "      <td>0</td>\n",
       "    </tr>\n",
       "    <tr>\n",
       "      <th>3</th>\n",
       "      <td>lokasi hotel yang sangat strategis masih di ko...</td>\n",
       "      <td>negative</td>\n",
       "      <td>0</td>\n",
       "    </tr>\n",
       "    <tr>\n",
       "      <th>4</th>\n",
       "      <td>lokasi hotel yang strategis di tengah kota dan...</td>\n",
       "      <td>negative</td>\n",
       "      <td>0</td>\n",
       "    </tr>\n",
       "  </tbody>\n",
       "</table>\n",
       "</div>"
      ],
      "text/plain": [
       "                                             content  polarity  sentiment\n",
       "0  lokasi hotel tidak jauh dari komplek mall kali...  negative          0\n",
       "1  lokasi hotel tidak jauh dengan taksi ke area m...  negative          0\n",
       "2  lokasi hotel yang sangat strategis masih di ko...  negative          0\n",
       "3  lokasi hotel yang sangat strategis masih di ko...  negative          0\n",
       "4  lokasi hotel yang strategis di tengah kota dan...  negative          0"
      ]
     },
     "execution_count": 4,
     "metadata": {},
     "output_type": "execute_result"
    }
   ],
   "source": [
    "# train_set['sentiment'] = train_set['polarity'].apply(sentiment_label)\n",
    "test_set['sentiment'] = test_set['polarity'].apply(sentiment_label)\n",
    "test_set.head()"
   ]
  },
  {
   "cell_type": "code",
   "execution_count": 5,
   "metadata": {
    "collapsed": true
   },
   "outputs": [],
   "source": [
    "SEED = 2000\n",
    "\n",
    "x_train, x_validation, y_train, y_validation = train_test_split(test_set['content'], test_set['sentiment'], test_size=.1, random_state=SEED)"
   ]
  },
  {
   "cell_type": "code",
   "execution_count": 6,
   "metadata": {
    "collapsed": true
   },
   "outputs": [],
   "source": [
    "# x_train = train_set['content']\n",
    "# x_validation = test_set['content']\n",
    "# y_train = train_set['sentiment']\n",
    "# y_validation = test_set['sentiment']"
   ]
  },
  {
   "cell_type": "code",
   "execution_count": 7,
   "metadata": {},
   "outputs": [
    {
     "name": "stderr",
     "output_type": "stream",
     "text": [
      "C:\\Users\\User\\Anaconda3\\lib\\site-packages\\ipykernel_launcher.py:5: DeprecationWarning: Call to deprecated `LabeledSentence` (Class will be removed in 4.0.0, use TaggedDocument instead).\n",
      "  \"\"\"\n"
     ]
    }
   ],
   "source": [
    "def labelize_text(text,label):\n",
    "    result = []\n",
    "    prefix = label\n",
    "    for i, t in zip(text.index, text):\n",
    "        result.append(LabeledSentence(t.split(), [prefix + '_%s' % i]))\n",
    "    return result\n",
    "  \n",
    "x_train = labelize_text(x_train, 'TRAIN')\n",
    "x_validation = labelize_text(x_validation, 'TEST')"
   ]
  },
  {
   "cell_type": "code",
   "execution_count": 8,
   "metadata": {
    "collapsed": true
   },
   "outputs": [],
   "source": [
    "MAX_SEQUENCE_LENGTH = 85\n",
    "data_dim = 700"
   ]
  },
  {
   "cell_type": "code",
   "execution_count": 9,
   "metadata": {
    "collapsed": true
   },
   "outputs": [],
   "source": [
    "# word2vec = Word2Vec.load(\"./vectorizer/tripadvisor/word2vec_300.model\")\n",
    "word2vec = Word2Vec.load('./prosa-w2v/prosa.vec')\n",
    "tfidf = pickle.load(open('./vectorizer/tripadvisor/tfidf.pickle', 'rb'))\n",
    "model_dbow = Doc2Vec.load(\"./vectorizer/tripadvisor/model_dbow.model\")\n",
    "model_dmc = Doc2Vec.load(\"./vectorizer/tripadvisor/model_dmc.model\")\n",
    "model_dmm = Doc2Vec.load(\"./vectorizer/tripadvisor/model_dmm.model\")\n",
    "\n",
    "def build_doc_Vector(tokens, size):\n",
    "    vec = np.zeros(size).reshape((1, size))\n",
    "    count = 0.\n",
    "    for word in tokens:\n",
    "        try:\n",
    "            vec += np.append(model_dbow[word] * tfidf[word], model_dmm[word] * tfidf[word])\n",
    "            count += 1\n",
    "        except KeyError: \n",
    "            continue\n",
    "    if count != 0:\n",
    "        vec /= count\n",
    "    return vec\n",
    "\n",
    "def build_Vector(tokens, word_size, doc_size):\n",
    "    doc_vec = build_doc_Vector(tokens, doc_size)\n",
    "    vec = np.zeros((MAX_SEQUENCE_LENGTH - len(tokens), doc_size + word_size))\n",
    "    for word in tokens:\n",
    "        try:\n",
    "            word_vec = np.append(doc_vec, word2vec[word])\n",
    "            vec = np.append(vec, word_vec)\n",
    "        except KeyError: \n",
    "            word_vec = np.append(doc_vec, np.zeros((1, word_size)))\n",
    "            vec = np.append(vec, word_vec)\n",
    "            continue\n",
    "    vec.reshape(MAX_SEQUENCE_LENGTH, doc_size + word_size)\n",
    "    return vec"
   ]
  },
  {
   "cell_type": "code",
   "execution_count": 10,
   "metadata": {},
   "outputs": [
    {
     "name": "stderr",
     "output_type": "stream",
     "text": [
      "0it [00:00, ?it/s]C:\\Users\\User\\Anaconda3\\lib\\site-packages\\ipykernel_launcher.py:26: DeprecationWarning: Call to deprecated `__getitem__` (Method will be removed in 4.0.0, use self.wv.__getitem__() instead).\n",
      "746it [00:03, 194.02it/s]\n",
      "83it [00:00, 194.51it/s]\n"
     ]
    }
   ],
   "source": [
    "train_vecs = np.concatenate([[build_Vector(z, 500, 200)] for z in tqdm(map(lambda x: x.words, x_train))])\n",
    "val_vecs = np.concatenate([[build_Vector(z, 500, 200)] for z in tqdm(map(lambda x: x.words, x_validation))])"
   ]
  },
  {
   "cell_type": "code",
   "execution_count": 11,
   "metadata": {
    "collapsed": true
   },
   "outputs": [],
   "source": [
    "batch_size = 56\n",
    "num_epochs = 10\n",
    "hidden_size = 10\n",
    "timesteps = MAX_SEQUENCE_LENGTH\n",
    "num_class = 1"
   ]
  },
  {
   "cell_type": "code",
   "execution_count": 12,
   "metadata": {},
   "outputs": [
    {
     "name": "stderr",
     "output_type": "stream",
     "text": [
      "C:\\Users\\User\\Anaconda3\\lib\\site-packages\\ipykernel_launcher.py:5: FutureWarning: reshape is deprecated and will raise in a subsequent release. Please use .values.reshape(...) instead\n",
      "  \"\"\"\n",
      "C:\\Users\\User\\Anaconda3\\lib\\site-packages\\ipykernel_launcher.py:7: FutureWarning: reshape is deprecated and will raise in a subsequent release. Please use .values.reshape(...) instead\n",
      "  import sys\n"
     ]
    }
   ],
   "source": [
    "num_data = len(train_vecs)\n",
    "num_data_val = len(val_vecs)\n",
    "\n",
    "train_vecs = train_vecs.reshape((num_data, timesteps, data_dim))\n",
    "y_train = y_train.reshape((num_data, num_class))\n",
    "val_vecs = val_vecs.reshape((num_data_val, timesteps, data_dim))\n",
    "y_validation = y_validation.reshape((num_data_val, num_class))"
   ]
  },
  {
   "cell_type": "code",
   "execution_count": 13,
   "metadata": {},
   "outputs": [
    {
     "name": "stdout",
     "output_type": "stream",
     "text": [
      "Train on 746 samples, validate on 83 samples\n",
      "Epoch 1/10\n",
      "746/746 [==============================] - ETA: 1:32 - loss: 0.7241 - acc: 0.625 - ETA: 46s - loss: 0.7200 - acc: 0.531 - ETA: 31s - loss: 0.7704 - acc: 0.47 - ETA: 23s - loss: 0.7470 - acc: 0.53 - ETA: 18s - loss: 0.7413 - acc: 0.54 - ETA: 15s - loss: 0.7140 - acc: 0.56 - ETA: 12s - loss: 0.7063 - acc: 0.58 - ETA: 10s - loss: 0.6984 - acc: 0.59 - ETA: 9s - loss: 0.6961 - acc: 0.5868 - ETA: 8s - loss: 0.6897 - acc: 0.596 - ETA: 7s - loss: 0.6808 - acc: 0.613 - ETA: 6s - loss: 0.6650 - acc: 0.625 - ETA: 5s - loss: 0.6651 - acc: 0.617 - ETA: 4s - loss: 0.6601 - acc: 0.622 - ETA: 3s - loss: 0.6482 - acc: 0.637 - ETA: 3s - loss: 0.6520 - acc: 0.638 - ETA: 2s - loss: 0.6455 - acc: 0.648 - ETA: 2s - loss: 0.6385 - acc: 0.654 - ETA: 1s - loss: 0.6312 - acc: 0.659 - ETA: 1s - loss: 0.6267 - acc: 0.662 - ETA: 0s - loss: 0.6192 - acc: 0.671 - ETA: 0s - loss: 0.6150 - acc: 0.673 - ETA: 0s - loss: 0.6085 - acc: 0.678 - 10s 13ms/step - loss: 0.6116 - acc: 0.6743 - val_loss: 0.4111 - val_acc: 0.8675\n",
      "Epoch 2/10\n",
      "746/746 [==============================] - ETA: 4s - loss: 0.4855 - acc: 0.750 - ETA: 4s - loss: 0.4553 - acc: 0.796 - ETA: 4s - loss: 0.4245 - acc: 0.843 - ETA: 3s - loss: 0.4315 - acc: 0.828 - ETA: 3s - loss: 0.4253 - acc: 0.843 - ETA: 3s - loss: 0.4254 - acc: 0.828 - ETA: 3s - loss: 0.4328 - acc: 0.821 - ETA: 3s - loss: 0.4316 - acc: 0.824 - ETA: 2s - loss: 0.4382 - acc: 0.816 - ETA: 2s - loss: 0.4254 - acc: 0.828 - ETA: 2s - loss: 0.4183 - acc: 0.840 - ETA: 2s - loss: 0.4103 - acc: 0.843 - ETA: 2s - loss: 0.4040 - acc: 0.851 - ETA: 1s - loss: 0.3986 - acc: 0.859 - ETA: 1s - loss: 0.3966 - acc: 0.856 - ETA: 1s - loss: 0.3992 - acc: 0.853 - ETA: 1s - loss: 0.4044 - acc: 0.847 - ETA: 1s - loss: 0.3959 - acc: 0.852 - ETA: 0s - loss: 0.3977 - acc: 0.850 - ETA: 0s - loss: 0.3961 - acc: 0.853 - ETA: 0s - loss: 0.3966 - acc: 0.852 - ETA: 0s - loss: 0.4007 - acc: 0.848 - ETA: 0s - loss: 0.4008 - acc: 0.846 - 5s 7ms/step - loss: 0.3998 - acc: 0.8472 - val_loss: 0.3157 - val_acc: 0.9157\n",
      "Epoch 3/10\n",
      "746/746 [==============================] - ETA: 4s - loss: 0.2941 - acc: 0.906 - ETA: 4s - loss: 0.3561 - acc: 0.859 - ETA: 4s - loss: 0.3383 - acc: 0.885 - ETA: 4s - loss: 0.3239 - acc: 0.898 - ETA: 3s - loss: 0.3344 - acc: 0.893 - ETA: 3s - loss: 0.3206 - acc: 0.911 - ETA: 3s - loss: 0.3320 - acc: 0.910 - ETA: 3s - loss: 0.3342 - acc: 0.910 - ETA: 2s - loss: 0.3324 - acc: 0.913 - ETA: 2s - loss: 0.3314 - acc: 0.909 - ETA: 2s - loss: 0.3280 - acc: 0.911 - ETA: 2s - loss: 0.3339 - acc: 0.908 - ETA: 2s - loss: 0.3409 - acc: 0.899 - ETA: 1s - loss: 0.3352 - acc: 0.901 - ETA: 1s - loss: 0.3350 - acc: 0.906 - ETA: 1s - loss: 0.3356 - acc: 0.902 - ETA: 1s - loss: 0.3309 - acc: 0.904 - ETA: 1s - loss: 0.3272 - acc: 0.904 - ETA: 0s - loss: 0.3265 - acc: 0.904 - ETA: 0s - loss: 0.3298 - acc: 0.901 - ETA: 0s - loss: 0.3248 - acc: 0.901 - ETA: 0s - loss: 0.3195 - acc: 0.904 - ETA: 0s - loss: 0.3184 - acc: 0.906 - 5s 7ms/step - loss: 0.3163 - acc: 0.9075 - val_loss: 0.2688 - val_acc: 0.9157\n",
      "Epoch 4/10\n",
      "746/746 [==============================] - ETA: 4s - loss: 0.3752 - acc: 0.875 - ETA: 4s - loss: 0.3021 - acc: 0.921 - ETA: 4s - loss: 0.2822 - acc: 0.937 - ETA: 3s - loss: 0.2625 - acc: 0.945 - ETA: 3s - loss: 0.2761 - acc: 0.925 - ETA: 3s - loss: 0.2672 - acc: 0.932 - ETA: 3s - loss: 0.2542 - acc: 0.942 - ETA: 3s - loss: 0.2623 - acc: 0.933 - ETA: 2s - loss: 0.2534 - acc: 0.934 - ETA: 2s - loss: 0.2599 - acc: 0.934 - ETA: 2s - loss: 0.2612 - acc: 0.934 - ETA: 2s - loss: 0.2580 - acc: 0.934 - ETA: 2s - loss: 0.2591 - acc: 0.930 - ETA: 1s - loss: 0.2559 - acc: 0.933 - ETA: 1s - loss: 0.2574 - acc: 0.929 - ETA: 1s - loss: 0.2611 - acc: 0.923 - ETA: 1s - loss: 0.2592 - acc: 0.924 - ETA: 1s - loss: 0.2588 - acc: 0.925 - ETA: 0s - loss: 0.2539 - acc: 0.929 - ETA: 0s - loss: 0.2531 - acc: 0.928 - ETA: 0s - loss: 0.2519 - acc: 0.928 - ETA: 0s - loss: 0.2478 - acc: 0.931 - ETA: 0s - loss: 0.2452 - acc: 0.932 - 5s 7ms/step - loss: 0.2492 - acc: 0.9303 - val_loss: 0.2304 - val_acc: 0.9277\n",
      "Epoch 5/10\n",
      "746/746 [==============================] - ETA: 4s - loss: 0.2036 - acc: 0.968 - ETA: 4s - loss: 0.1972 - acc: 0.968 - ETA: 4s - loss: 0.1963 - acc: 0.968 - ETA: 3s - loss: 0.1970 - acc: 0.960 - ETA: 3s - loss: 0.1897 - acc: 0.956 - ETA: 3s - loss: 0.1911 - acc: 0.953 - ETA: 3s - loss: 0.1887 - acc: 0.955 - ETA: 3s - loss: 0.2002 - acc: 0.953 - ETA: 2s - loss: 0.2089 - acc: 0.951 - ETA: 2s - loss: 0.2112 - acc: 0.953 - ETA: 2s - loss: 0.2142 - acc: 0.951 - ETA: 2s - loss: 0.2204 - acc: 0.947 - ETA: 2s - loss: 0.2188 - acc: 0.944 - ETA: 1s - loss: 0.2198 - acc: 0.944 - ETA: 1s - loss: 0.2236 - acc: 0.943 - ETA: 1s - loss: 0.2180 - acc: 0.947 - ETA: 1s - loss: 0.2180 - acc: 0.946 - ETA: 1s - loss: 0.2156 - acc: 0.946 - ETA: 0s - loss: 0.2158 - acc: 0.947 - ETA: 0s - loss: 0.2143 - acc: 0.948 - ETA: 0s - loss: 0.2105 - acc: 0.950 - ETA: 0s - loss: 0.2079 - acc: 0.953 - ETA: 0s - loss: 0.2098 - acc: 0.951 - 5s 7ms/step - loss: 0.2081 - acc: 0.9517 - val_loss: 0.2014 - val_acc: 0.9398\n",
      "Epoch 6/10\n",
      "746/746 [==============================] - ETA: 4s - loss: 0.2036 - acc: 0.906 - ETA: 4s - loss: 0.1877 - acc: 0.937 - ETA: 4s - loss: 0.1975 - acc: 0.937 - ETA: 3s - loss: 0.1876 - acc: 0.945 - ETA: 3s - loss: 0.1826 - acc: 0.950 - ETA: 3s - loss: 0.1778 - acc: 0.958 - ETA: 3s - loss: 0.1711 - acc: 0.964 - ETA: 3s - loss: 0.1579 - acc: 0.968 - ETA: 2s - loss: 0.1544 - acc: 0.968 - ETA: 2s - loss: 0.1505 - acc: 0.971 - ETA: 2s - loss: 0.1590 - acc: 0.968 - ETA: 2s - loss: 0.1574 - acc: 0.968 - ETA: 2s - loss: 0.1569 - acc: 0.968 - ETA: 1s - loss: 0.1539 - acc: 0.968 - ETA: 1s - loss: 0.1543 - acc: 0.968 - ETA: 1s - loss: 0.1574 - acc: 0.966 - ETA: 1s - loss: 0.1611 - acc: 0.965 - ETA: 1s - loss: 0.1654 - acc: 0.961 - ETA: 0s - loss: 0.1749 - acc: 0.955 - ETA: 0s - loss: 0.1710 - acc: 0.957 - ETA: 0s - loss: 0.1707 - acc: 0.958 - ETA: 0s - loss: 0.1695 - acc: 0.958 - ETA: 0s - loss: 0.1674 - acc: 0.960 - 5s 7ms/step - loss: 0.1685 - acc: 0.9598 - val_loss: 0.1793 - val_acc: 0.9518\n",
      "Epoch 7/10\n",
      "746/746 [==============================] - ETA: 4s - loss: 0.1250 - acc: 1.000 - ETA: 4s - loss: 0.1180 - acc: 1.000 - ETA: 4s - loss: 0.1131 - acc: 1.000 - ETA: 3s - loss: 0.1216 - acc: 0.984 - ETA: 3s - loss: 0.1276 - acc: 0.975 - ETA: 3s - loss: 0.1330 - acc: 0.974 - ETA: 3s - loss: 0.1326 - acc: 0.977 - ETA: 3s - loss: 0.1350 - acc: 0.976 - ETA: 2s - loss: 0.1434 - acc: 0.972 - ETA: 2s - loss: 0.1479 - acc: 0.968 - ETA: 2s - loss: 0.1499 - acc: 0.968 - ETA: 2s - loss: 0.1528 - acc: 0.968 - ETA: 2s - loss: 0.1534 - acc: 0.968 - ETA: 1s - loss: 0.1472 - acc: 0.971 - ETA: 1s - loss: 0.1438 - acc: 0.972 - ETA: 1s - loss: 0.1417 - acc: 0.974 - ETA: 1s - loss: 0.1410 - acc: 0.976 - ETA: 1s - loss: 0.1380 - acc: 0.977 - ETA: 0s - loss: 0.1403 - acc: 0.975 - ETA: 0s - loss: 0.1407 - acc: 0.973 - ETA: 0s - loss: 0.1430 - acc: 0.970 - ETA: 0s - loss: 0.1419 - acc: 0.970 - ETA: 0s - loss: 0.1409 - acc: 0.970 - 5s 7ms/step - loss: 0.1414 - acc: 0.9705 - val_loss: 0.1639 - val_acc: 0.9518\n",
      "Epoch 8/10\n",
      "746/746 [==============================] - ETA: 4s - loss: 0.0953 - acc: 1.000 - ETA: 4s - loss: 0.0964 - acc: 1.000 - ETA: 4s - loss: 0.1214 - acc: 0.979 - ETA: 3s - loss: 0.1308 - acc: 0.968 - ETA: 3s - loss: 0.1271 - acc: 0.968 - ETA: 3s - loss: 0.1318 - acc: 0.963 - ETA: 3s - loss: 0.1405 - acc: 0.964 - ETA: 3s - loss: 0.1339 - acc: 0.968 - ETA: 2s - loss: 0.1289 - acc: 0.972 - ETA: 2s - loss: 0.1301 - acc: 0.968 - ETA: 2s - loss: 0.1251 - acc: 0.971 - ETA: 2s - loss: 0.1237 - acc: 0.971 - ETA: 2s - loss: 0.1254 - acc: 0.973 - ETA: 1s - loss: 0.1232 - acc: 0.975 - ETA: 1s - loss: 0.1230 - acc: 0.977 - ETA: 1s - loss: 0.1251 - acc: 0.976 - ETA: 1s - loss: 0.1250 - acc: 0.976 - ETA: 1s - loss: 0.1283 - acc: 0.972 - ETA: 0s - loss: 0.1314 - acc: 0.972 - ETA: 0s - loss: 0.1275 - acc: 0.973 - ETA: 0s - loss: 0.1267 - acc: 0.973 - ETA: 0s - loss: 0.1285 - acc: 0.968 - ETA: 0s - loss: 0.1304 - acc: 0.967 - 5s 7ms/step - loss: 0.1304 - acc: 0.9665 - val_loss: 0.1584 - val_acc: 0.9518\n",
      "Epoch 9/10\n"
     ]
    },
    {
     "name": "stdout",
     "output_type": "stream",
     "text": [
      "746/746 [==============================] - ETA: 4s - loss: 0.1622 - acc: 0.968 - ETA: 4s - loss: 0.1763 - acc: 0.953 - ETA: 4s - loss: 0.1568 - acc: 0.958 - ETA: 3s - loss: 0.1359 - acc: 0.968 - ETA: 3s - loss: 0.1290 - acc: 0.975 - ETA: 3s - loss: 0.1254 - acc: 0.968 - ETA: 3s - loss: 0.1150 - acc: 0.973 - ETA: 3s - loss: 0.1217 - acc: 0.968 - ETA: 2s - loss: 0.1152 - acc: 0.972 - ETA: 2s - loss: 0.1118 - acc: 0.975 - ETA: 2s - loss: 0.1225 - acc: 0.968 - ETA: 2s - loss: 0.1183 - acc: 0.971 - ETA: 2s - loss: 0.1129 - acc: 0.973 - ETA: 1s - loss: 0.1145 - acc: 0.973 - ETA: 1s - loss: 0.1126 - acc: 0.972 - ETA: 1s - loss: 0.1136 - acc: 0.970 - ETA: 1s - loss: 0.1123 - acc: 0.972 - ETA: 1s - loss: 0.1163 - acc: 0.972 - ETA: 0s - loss: 0.1258 - acc: 0.968 - ETA: 0s - loss: 0.1217 - acc: 0.970 - ETA: 0s - loss: 0.1208 - acc: 0.971 - ETA: 0s - loss: 0.1186 - acc: 0.973 - ETA: 0s - loss: 0.1169 - acc: 0.972 - 5s 7ms/step - loss: 0.1159 - acc: 0.9732 - val_loss: 0.1531 - val_acc: 0.9639\n",
      "Epoch 10/10\n",
      "746/746 [==============================] - ETA: 4s - loss: 0.1685 - acc: 0.937 - ETA: 4s - loss: 0.1236 - acc: 0.968 - ETA: 4s - loss: 0.1521 - acc: 0.968 - ETA: 3s - loss: 0.1337 - acc: 0.976 - ETA: 3s - loss: 0.1283 - acc: 0.975 - ETA: 3s - loss: 0.1162 - acc: 0.979 - ETA: 3s - loss: 0.1114 - acc: 0.977 - ETA: 3s - loss: 0.1218 - acc: 0.972 - ETA: 2s - loss: 0.1225 - acc: 0.972 - ETA: 2s - loss: 0.1166 - acc: 0.975 - ETA: 2s - loss: 0.1118 - acc: 0.977 - ETA: 2s - loss: 0.1079 - acc: 0.979 - ETA: 2s - loss: 0.1081 - acc: 0.978 - ETA: 1s - loss: 0.1049 - acc: 0.979 - ETA: 1s - loss: 0.1049 - acc: 0.979 - ETA: 1s - loss: 0.1032 - acc: 0.980 - ETA: 1s - loss: 0.1041 - acc: 0.979 - ETA: 1s - loss: 0.1028 - acc: 0.980 - ETA: 0s - loss: 0.1034 - acc: 0.980 - ETA: 0s - loss: 0.1009 - acc: 0.981 - ETA: 0s - loss: 0.1019 - acc: 0.980 - ETA: 0s - loss: 0.1019 - acc: 0.981 - ETA: 0s - loss: 0.1028 - acc: 0.979 - 5s 7ms/step - loss: 0.1033 - acc: 0.9786 - val_loss: 0.1463 - val_acc: 0.9639\n"
     ]
    },
    {
     "data": {
      "text/plain": [
       "<keras.callbacks.History at 0x18aacb10e10>"
      ]
     },
     "execution_count": 13,
     "metadata": {},
     "output_type": "execute_result"
    }
   ],
   "source": [
    "model = Sequential()\n",
    "model.add(Bidirectional(GRU(hidden_size, input_shape=(timesteps, data_dim)), merge_mode='concat'))\n",
    "model.add(Dropout(0.5))\n",
    "model.add(Dense(1, activation='sigmoid'))\n",
    "model.compile(optimizer='adam', loss='binary_crossentropy', metrics=['accuracy'])\n",
    "model.fit(train_vecs, y_train, epochs=num_epochs, validation_data=[val_vecs, y_validation])"
   ]
  },
  {
   "cell_type": "code",
   "execution_count": 14,
   "metadata": {
    "collapsed": true
   },
   "outputs": [],
   "source": [
    "# model.save('./model/bi_gru_pv/bi_gru_model_01.h5')  "
   ]
  },
  {
   "cell_type": "code",
   "execution_count": 15,
   "metadata": {},
   "outputs": [
    {
     "name": "stdout",
     "output_type": "stream",
     "text": [
      "Accuracy:  0.963855421686747\n",
      "             precision    recall  f1-score   support\n",
      "\n",
      "          0  0.96428571 0.98181818 0.97297297        55\n",
      "          1  0.96296296 0.92857143 0.94545455        28\n",
      "\n",
      "avg / total  0.96383948 0.96385542 0.96368965        83\n",
      "\n"
     ]
    }
   ],
   "source": [
    "# model = load_model('./model/bi_gru_pv/bi_gru_model_01.h5')\n",
    "y_pred = model.predict(val_vecs)\n",
    "for i in range(len(y_pred)):\n",
    "    y_pred[i][0] = round(y_pred[i][0])\n",
    "\n",
    "print(\"Accuracy: \", accuracy_score(y_validation, y_pred))\n",
    "print(classification_report(y_validation, y_pred, labels = [0, 1], digits=8))"
   ]
  }
 ],
 "metadata": {
  "kernelspec": {
   "display_name": "Python 3",
   "language": "python",
   "name": "python3"
  },
  "language_info": {
   "codemirror_mode": {
    "name": "ipython",
    "version": 3
   },
   "file_extension": ".py",
   "mimetype": "text/x-python",
   "name": "python",
   "nbconvert_exporter": "python",
   "pygments_lexer": "ipython3",
   "version": "3.6.3"
  }
 },
 "nbformat": 4,
 "nbformat_minor": 2
}
