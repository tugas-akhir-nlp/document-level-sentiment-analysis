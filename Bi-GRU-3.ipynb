{
 "cells": [
  {
   "cell_type": "code",
   "execution_count": 1,
   "metadata": {},
   "outputs": [
    {
     "name": "stderr",
     "output_type": "stream",
     "text": [
      "C:\\Users\\User\\Anaconda3\\lib\\site-packages\\gensim\\utils.py:1212: UserWarning: detected Windows; aliasing chunkize to chunkize_serial\n",
      "  warnings.warn(\"detected Windows; aliasing chunkize to chunkize_serial\")\n",
      "C:\\Users\\User\\Anaconda3\\lib\\site-packages\\pattern-2.6-py3.6.egg\\pattern\\text\\en\\..\\..\\..\\..\\sklearn\\cross_validation.py:41: DeprecationWarning: This module was deprecated in version 0.18 in favor of the model_selection module into which all the refactored classes and functions are moved. Also note that the interface of the new CV iterators are different from that of this module. This module will be removed in 0.20.\n",
      "  \"This module will be removed in 0.20.\", DeprecationWarning)\n",
      "C:\\Users\\User\\Anaconda3\\lib\\site-packages\\h5py\\__init__.py:36: FutureWarning: Conversion of the second argument of issubdtype from `float` to `np.floating` is deprecated. In future, it will be treated as `np.float64 == np.dtype(float).type`.\n",
      "  from ._conv import register_converters as _register_converters\n",
      "Using TensorFlow backend.\n"
     ]
    }
   ],
   "source": [
    "import os\n",
    "import sys\n",
    "import gensim\n",
    "import pandas as pd\n",
    "import re\n",
    "from nltk.tokenize import RegexpTokenizer\n",
    "from gensim.models.doc2vec import LabeledSentence\n",
    "from sklearn.cross_validation import train_test_split\n",
    "from gensim.models.word2vec import Word2Vec\n",
    "from tqdm import tqdm\n",
    "from sklearn import utils\n",
    "import numpy as np\n",
    "from keras import optimizers\n",
    "from keras.models import load_model\n",
    "from keras.utils import to_categorical\n",
    "from sklearn.metrics import accuracy_score, classification_report\n",
    "from keras.preprocessing import sequence\n",
    "from keras.models import Sequential\n",
    "from keras.layers import Dense, Dropout, Embedding, GRU, Bidirectional"
   ]
  },
  {
   "cell_type": "code",
   "execution_count": 2,
   "metadata": {
    "collapsed": true
   },
   "outputs": [],
   "source": [
    "def preprocess(text):\n",
    "    text = re.sub(r'[^\\w\\s]','',text)\n",
    "    text = re.sub(r'\\d+','<number>',text)\n",
    "    return text"
   ]
  },
  {
   "cell_type": "code",
   "execution_count": 3,
   "metadata": {},
   "outputs": [
    {
     "data": {
      "text/html": [
       "<div>\n",
       "<style>\n",
       "    .dataframe thead tr:only-child th {\n",
       "        text-align: right;\n",
       "    }\n",
       "\n",
       "    .dataframe thead th {\n",
       "        text-align: left;\n",
       "    }\n",
       "\n",
       "    .dataframe tbody tr th {\n",
       "        vertical-align: top;\n",
       "    }\n",
       "</style>\n",
       "<table border=\"1\" class=\"dataframe\">\n",
       "  <thead>\n",
       "    <tr style=\"text-align: right;\">\n",
       "      <th></th>\n",
       "      <th>content</th>\n",
       "      <th>polarity</th>\n",
       "    </tr>\n",
       "  </thead>\n",
       "  <tbody>\n",
       "    <tr>\n",
       "      <th>0</th>\n",
       "      <td>gerindra alihkan rekomendasi ke agus an tanri ...</td>\n",
       "      <td>neutral</td>\n",
       "    </tr>\n",
       "    <tr>\n",
       "      <th>1</th>\n",
       "      <td>cuci tangan pakai sunlight stelah itu pakai sa...</td>\n",
       "      <td>neutral</td>\n",
       "    </tr>\n",
       "    <tr>\n",
       "      <th>2</th>\n",
       "      <td>kasus toko obat digerebek fpi propam akan peri...</td>\n",
       "      <td>neutral</td>\n",
       "    </tr>\n",
       "    <tr>\n",
       "      <th>3</th>\n",
       "      <td>menkeu melemah nya rupiah lebih berpengaruh pa...</td>\n",
       "      <td>neutral</td>\n",
       "    </tr>\n",
       "    <tr>\n",
       "      <th>4</th>\n",
       "      <td>minyak jarak castor oil &lt;number&gt; ml</td>\n",
       "      <td>neutral</td>\n",
       "    </tr>\n",
       "  </tbody>\n",
       "</table>\n",
       "</div>"
      ],
      "text/plain": [
       "                                             content polarity\n",
       "0  gerindra alihkan rekomendasi ke agus an tanri ...  neutral\n",
       "1  cuci tangan pakai sunlight stelah itu pakai sa...  neutral\n",
       "2  kasus toko obat digerebek fpi propam akan peri...  neutral\n",
       "3  menkeu melemah nya rupiah lebih berpengaruh pa...  neutral\n",
       "4                minyak jarak castor oil <number> ml  neutral"
      ]
     },
     "execution_count": 3,
     "metadata": {},
     "output_type": "execute_result"
    }
   ],
   "source": [
    "clean_train_comments = pd.read_csv(\"./corpus/prosa/data_clean_punctuation/train.csv\")\n",
    "# clean_train_comments = pd.read_csv(\"./corpus/prosa/data_clean_punctuation/data_train_full.csv\")\n",
    "clean_train_comments['content'] = clean_train_comments['content'].apply(preprocess)\n",
    "clean_train_comments.head()"
   ]
  },
  {
   "cell_type": "code",
   "execution_count": 4,
   "metadata": {},
   "outputs": [
    {
     "data": {
      "text/html": [
       "<div>\n",
       "<style>\n",
       "    .dataframe thead tr:only-child th {\n",
       "        text-align: right;\n",
       "    }\n",
       "\n",
       "    .dataframe thead th {\n",
       "        text-align: left;\n",
       "    }\n",
       "\n",
       "    .dataframe tbody tr th {\n",
       "        vertical-align: top;\n",
       "    }\n",
       "</style>\n",
       "<table border=\"1\" class=\"dataframe\">\n",
       "  <thead>\n",
       "    <tr style=\"text-align: right;\">\n",
       "      <th></th>\n",
       "      <th>content</th>\n",
       "      <th>polarity</th>\n",
       "      <th>tokens</th>\n",
       "      <th>sentiment</th>\n",
       "    </tr>\n",
       "  </thead>\n",
       "  <tbody>\n",
       "    <tr>\n",
       "      <th>0</th>\n",
       "      <td>gerindra alihkan rekomendasi ke agus an tanri ...</td>\n",
       "      <td>neutral</td>\n",
       "      <td>[gerindra, alihkan, rekomendasi, ke, agus, an,...</td>\n",
       "      <td>1</td>\n",
       "    </tr>\n",
       "    <tr>\n",
       "      <th>1</th>\n",
       "      <td>cuci tangan pakai sunlight stelah itu pakai sa...</td>\n",
       "      <td>neutral</td>\n",
       "      <td>[cuci, tangan, pakai, sunlight, stelah, itu, p...</td>\n",
       "      <td>1</td>\n",
       "    </tr>\n",
       "    <tr>\n",
       "      <th>2</th>\n",
       "      <td>kasus toko obat digerebek fpi propam akan peri...</td>\n",
       "      <td>neutral</td>\n",
       "      <td>[kasus, toko, obat, digerebek, fpi, propam, ak...</td>\n",
       "      <td>1</td>\n",
       "    </tr>\n",
       "    <tr>\n",
       "      <th>3</th>\n",
       "      <td>menkeu melemah nya rupiah lebih berpengaruh pa...</td>\n",
       "      <td>neutral</td>\n",
       "      <td>[menkeu, melemah, nya, rupiah, lebih, berpenga...</td>\n",
       "      <td>1</td>\n",
       "    </tr>\n",
       "    <tr>\n",
       "      <th>4</th>\n",
       "      <td>minyak jarak castor oil &lt;number&gt; ml</td>\n",
       "      <td>neutral</td>\n",
       "      <td>[minyak, jarak, castor, oil, number, ml]</td>\n",
       "      <td>1</td>\n",
       "    </tr>\n",
       "  </tbody>\n",
       "</table>\n",
       "</div>"
      ],
      "text/plain": [
       "                                             content polarity  \\\n",
       "0  gerindra alihkan rekomendasi ke agus an tanri ...  neutral   \n",
       "1  cuci tangan pakai sunlight stelah itu pakai sa...  neutral   \n",
       "2  kasus toko obat digerebek fpi propam akan peri...  neutral   \n",
       "3  menkeu melemah nya rupiah lebih berpengaruh pa...  neutral   \n",
       "4                minyak jarak castor oil <number> ml  neutral   \n",
       "\n",
       "                                              tokens  sentiment  \n",
       "0  [gerindra, alihkan, rekomendasi, ke, agus, an,...          1  \n",
       "1  [cuci, tangan, pakai, sunlight, stelah, itu, p...          1  \n",
       "2  [kasus, toko, obat, digerebek, fpi, propam, ak...          1  \n",
       "3  [menkeu, melemah, nya, rupiah, lebih, berpenga...          1  \n",
       "4           [minyak, jarak, castor, oil, number, ml]          1  "
      ]
     },
     "execution_count": 4,
     "metadata": {},
     "output_type": "execute_result"
    }
   ],
   "source": [
    "tokenizer = RegexpTokenizer(r'\\w+')\n",
    "clean_train_comments['content'] = clean_train_comments['content'].astype('str') \n",
    "clean_train_comments.dtypes\n",
    "clean_train_comments['tokens'] = clean_train_comments['content'].apply(tokenizer.tokenize)\n",
    "clean_train_comments['sentiment'] = clean_train_comments['polarity'].astype('category').cat.codes\n",
    "   \n",
    "clean_train_comments.head()"
   ]
  },
  {
   "cell_type": "code",
   "execution_count": 5,
   "metadata": {},
   "outputs": [
    {
     "data": {
      "text/html": [
       "<div>\n",
       "<style>\n",
       "    .dataframe thead tr:only-child th {\n",
       "        text-align: right;\n",
       "    }\n",
       "\n",
       "    .dataframe thead th {\n",
       "        text-align: left;\n",
       "    }\n",
       "\n",
       "    .dataframe tbody tr th {\n",
       "        vertical-align: top;\n",
       "    }\n",
       "</style>\n",
       "<table border=\"1\" class=\"dataframe\">\n",
       "  <thead>\n",
       "    <tr style=\"text-align: right;\">\n",
       "      <th></th>\n",
       "      <th>content</th>\n",
       "      <th>polarity</th>\n",
       "    </tr>\n",
       "  </thead>\n",
       "  <tbody>\n",
       "    <tr>\n",
       "      <th>0</th>\n",
       "      <td>kemarin gue datang ke tempat makan baru yang a...</td>\n",
       "      <td>negative</td>\n",
       "    </tr>\n",
       "    <tr>\n",
       "      <th>1</th>\n",
       "      <td>kayak nya sih gue tidak akan mau balik lagi ke...</td>\n",
       "      <td>negative</td>\n",
       "    </tr>\n",
       "    <tr>\n",
       "      <th>2</th>\n",
       "      <td>kalau dipikirpikir sebenarnya tidak ada yang b...</td>\n",
       "      <td>negative</td>\n",
       "    </tr>\n",
       "    <tr>\n",
       "      <th>3</th>\n",
       "      <td>ini pertama kalinya gua ke bank buat ngurusin ...</td>\n",
       "      <td>negative</td>\n",
       "    </tr>\n",
       "    <tr>\n",
       "      <th>4</th>\n",
       "      <td>waktu sampai dengan gue pernah disuruh ibu lat...</td>\n",
       "      <td>negative</td>\n",
       "    </tr>\n",
       "  </tbody>\n",
       "</table>\n",
       "</div>"
      ],
      "text/plain": [
       "                                             content  polarity\n",
       "0  kemarin gue datang ke tempat makan baru yang a...  negative\n",
       "1  kayak nya sih gue tidak akan mau balik lagi ke...  negative\n",
       "2  kalau dipikirpikir sebenarnya tidak ada yang b...  negative\n",
       "3  ini pertama kalinya gua ke bank buat ngurusin ...  negative\n",
       "4  waktu sampai dengan gue pernah disuruh ibu lat...  negative"
      ]
     },
     "execution_count": 5,
     "metadata": {},
     "output_type": "execute_result"
    }
   ],
   "source": [
    "clean_test_comments = pd.read_csv(\"./corpus/prosa/data_clean_punctuation/test.csv\")\n",
    "# clean_test_comments = pd.read_csv(\"./corpus/prosa/data_clean_punctuation/data_testing_full.csv\")\n",
    "clean_test_comments['content'] = clean_test_comments['content'].apply(preprocess)\n",
    "clean_test_comments.head()"
   ]
  },
  {
   "cell_type": "code",
   "execution_count": 6,
   "metadata": {},
   "outputs": [
    {
     "data": {
      "text/html": [
       "<div>\n",
       "<style>\n",
       "    .dataframe thead tr:only-child th {\n",
       "        text-align: right;\n",
       "    }\n",
       "\n",
       "    .dataframe thead th {\n",
       "        text-align: left;\n",
       "    }\n",
       "\n",
       "    .dataframe tbody tr th {\n",
       "        vertical-align: top;\n",
       "    }\n",
       "</style>\n",
       "<table border=\"1\" class=\"dataframe\">\n",
       "  <thead>\n",
       "    <tr style=\"text-align: right;\">\n",
       "      <th></th>\n",
       "      <th>content</th>\n",
       "      <th>polarity</th>\n",
       "      <th>tokens</th>\n",
       "      <th>sentiment</th>\n",
       "    </tr>\n",
       "  </thead>\n",
       "  <tbody>\n",
       "    <tr>\n",
       "      <th>0</th>\n",
       "      <td>kemarin gue datang ke tempat makan baru yang a...</td>\n",
       "      <td>negative</td>\n",
       "      <td>[kemarin, gue, datang, ke, tempat, makan, baru...</td>\n",
       "      <td>0</td>\n",
       "    </tr>\n",
       "    <tr>\n",
       "      <th>1</th>\n",
       "      <td>kayak nya sih gue tidak akan mau balik lagi ke...</td>\n",
       "      <td>negative</td>\n",
       "      <td>[kayak, nya, sih, gue, tidak, akan, mau, balik...</td>\n",
       "      <td>0</td>\n",
       "    </tr>\n",
       "    <tr>\n",
       "      <th>2</th>\n",
       "      <td>kalau dipikirpikir sebenarnya tidak ada yang b...</td>\n",
       "      <td>negative</td>\n",
       "      <td>[kalau, dipikirpikir, sebenarnya, tidak, ada, ...</td>\n",
       "      <td>0</td>\n",
       "    </tr>\n",
       "    <tr>\n",
       "      <th>3</th>\n",
       "      <td>ini pertama kalinya gua ke bank buat ngurusin ...</td>\n",
       "      <td>negative</td>\n",
       "      <td>[ini, pertama, kalinya, gua, ke, bank, buat, n...</td>\n",
       "      <td>0</td>\n",
       "    </tr>\n",
       "    <tr>\n",
       "      <th>4</th>\n",
       "      <td>waktu sampai dengan gue pernah disuruh ibu lat...</td>\n",
       "      <td>negative</td>\n",
       "      <td>[waktu, sampai, dengan, gue, pernah, disuruh, ...</td>\n",
       "      <td>0</td>\n",
       "    </tr>\n",
       "  </tbody>\n",
       "</table>\n",
       "</div>"
      ],
      "text/plain": [
       "                                             content  polarity  \\\n",
       "0  kemarin gue datang ke tempat makan baru yang a...  negative   \n",
       "1  kayak nya sih gue tidak akan mau balik lagi ke...  negative   \n",
       "2  kalau dipikirpikir sebenarnya tidak ada yang b...  negative   \n",
       "3  ini pertama kalinya gua ke bank buat ngurusin ...  negative   \n",
       "4  waktu sampai dengan gue pernah disuruh ibu lat...  negative   \n",
       "\n",
       "                                              tokens  sentiment  \n",
       "0  [kemarin, gue, datang, ke, tempat, makan, baru...          0  \n",
       "1  [kayak, nya, sih, gue, tidak, akan, mau, balik...          0  \n",
       "2  [kalau, dipikirpikir, sebenarnya, tidak, ada, ...          0  \n",
       "3  [ini, pertama, kalinya, gua, ke, bank, buat, n...          0  \n",
       "4  [waktu, sampai, dengan, gue, pernah, disuruh, ...          0  "
      ]
     },
     "execution_count": 6,
     "metadata": {},
     "output_type": "execute_result"
    }
   ],
   "source": [
    "clean_test_comments['content'] = clean_test_comments['content'].astype('str') \n",
    "clean_test_comments.dtypes\n",
    "clean_test_comments[\"tokens\"] = clean_test_comments[\"content\"].apply(tokenizer.tokenize)\n",
    "clean_test_comments['sentiment'] = clean_test_comments['polarity'].astype('category').cat.codes\n",
    "\n",
    "clean_test_comments.head()"
   ]
  },
  {
   "cell_type": "code",
   "execution_count": 7,
   "metadata": {
    "collapsed": true
   },
   "outputs": [],
   "source": [
    "x_train = clean_train_comments['content']\n",
    "x_validation = clean_test_comments['content']\n",
    "y_train = clean_train_comments['sentiment']\n",
    "y_validation = clean_test_comments['sentiment']"
   ]
  },
  {
   "cell_type": "code",
   "execution_count": 8,
   "metadata": {},
   "outputs": [
    {
     "name": "stderr",
     "output_type": "stream",
     "text": [
      "C:\\Users\\User\\Anaconda3\\lib\\site-packages\\ipykernel_launcher.py:5: DeprecationWarning: Call to deprecated `LabeledSentence` (Class will be removed in 4.0.0, use TaggedDocument instead).\n",
      "  \"\"\"\n"
     ]
    }
   ],
   "source": [
    "def labelize_text(text,label):\n",
    "    result = []\n",
    "    prefix = label\n",
    "    for i, t in zip(text.index, text):\n",
    "        result.append(LabeledSentence(t.split(), [prefix + '_%s' % i]))\n",
    "    return result\n",
    "  \n",
    "x_train = labelize_text(x_train, 'TRAIN')\n",
    "x_validation = labelize_text(x_validation, 'TEST')"
   ]
  },
  {
   "cell_type": "code",
   "execution_count": 9,
   "metadata": {
    "collapsed": true
   },
   "outputs": [],
   "source": [
    "MAX_SEQUENCE_LENGTH = 85\n",
    "data_dim = 500"
   ]
  },
  {
   "cell_type": "code",
   "execution_count": 10,
   "metadata": {
    "collapsed": true
   },
   "outputs": [],
   "source": [
    "word2vec = Word2Vec.load('./prosa-w2v/prosa.vec')\n",
    "# word2vec = Word2Vec.load(\"./vectorizer/tripadvisor/word2vec_300.model\")"
   ]
  },
  {
   "cell_type": "code",
   "execution_count": 11,
   "metadata": {
    "collapsed": true
   },
   "outputs": [],
   "source": [
    "def build_Word_Vector(tokens, size):\n",
    "    vec = np.zeros((MAX_SEQUENCE_LENGTH - len(tokens), size))\n",
    "    for word in tokens:\n",
    "        try:\n",
    "            vec = np.append(vec, word2vec[word])\n",
    "        except KeyError: \n",
    "            vec = np.append(vec, np.zeros((1, size)))\n",
    "            continue\n",
    "    vec.reshape(MAX_SEQUENCE_LENGTH, size)\n",
    "    return vec"
   ]
  },
  {
   "cell_type": "code",
   "execution_count": 12,
   "metadata": {},
   "outputs": [
    {
     "name": "stderr",
     "output_type": "stream",
     "text": [
      "0it [00:00, ?it/s]C:\\Users\\User\\Anaconda3\\lib\\site-packages\\ipykernel_launcher.py:5: DeprecationWarning: Call to deprecated `__getitem__` (Method will be removed in 4.0.0, use self.wv.__getitem__() instead).\n",
      "  \"\"\"\n",
      "935it [00:01, 692.31it/s] \n",
      "100it [00:00, 849.99it/s]\n"
     ]
    }
   ],
   "source": [
    "train_vecs = np.concatenate([[build_Word_Vector(z, 500)] for z in tqdm(map(lambda x: x.words, x_train))])\n",
    "val_vecs = np.concatenate([[build_Word_Vector(z, 500)] for z in tqdm(map(lambda x: x.words, x_validation))])"
   ]
  },
  {
   "cell_type": "code",
   "execution_count": 13,
   "metadata": {
    "collapsed": true
   },
   "outputs": [],
   "source": [
    "batch_size = 256\n",
    "num_epochs = 10\n",
    "hidden_size = 10\n",
    "timesteps = MAX_SEQUENCE_LENGTH\n",
    "num_class = 1"
   ]
  },
  {
   "cell_type": "code",
   "execution_count": 14,
   "metadata": {},
   "outputs": [
    {
     "name": "stderr",
     "output_type": "stream",
     "text": [
      "C:\\Users\\User\\Anaconda3\\lib\\site-packages\\ipykernel_launcher.py:5: FutureWarning: reshape is deprecated and will raise in a subsequent release. Please use .values.reshape(...) instead\n",
      "  \"\"\"\n",
      "C:\\Users\\User\\Anaconda3\\lib\\site-packages\\ipykernel_launcher.py:7: FutureWarning: reshape is deprecated and will raise in a subsequent release. Please use .values.reshape(...) instead\n",
      "  import sys\n"
     ]
    }
   ],
   "source": [
    "num_data = len(train_vecs)\n",
    "num_data_val = len(val_vecs)\n",
    "\n",
    "train_vecs = train_vecs.reshape((num_data, timesteps, data_dim))\n",
    "y_train = y_train.reshape((num_data, num_class))\n",
    "val_vecs = val_vecs.reshape((num_data_val, timesteps, data_dim))\n",
    "y_validation = y_validation.reshape((num_data_val, num_class))"
   ]
  },
  {
   "cell_type": "code",
   "execution_count": 15,
   "metadata": {},
   "outputs": [
    {
     "name": "stdout",
     "output_type": "stream",
     "text": [
      "Train on 935 samples, validate on 100 samples\n",
      "Epoch 1/10\n",
      "935/935 [==============================] - ETA: 1:00 - loss: 1.1344 - acc: 0.250 - ETA: 31s - loss: 1.1448 - acc: 0.359 - ETA: 21s - loss: 1.1386 - acc: 0.36 - ETA: 16s - loss: 1.1422 - acc: 0.36 - ETA: 13s - loss: 1.1607 - acc: 0.33 - ETA: 11s - loss: 1.1382 - acc: 0.36 - ETA: 9s - loss: 1.1579 - acc: 0.3527 - ETA: 8s - loss: 1.1507 - acc: 0.347 - ETA: 7s - loss: 1.1465 - acc: 0.357 - ETA: 6s - loss: 1.1357 - acc: 0.359 - ETA: 6s - loss: 1.1437 - acc: 0.349 - ETA: 5s - loss: 1.1528 - acc: 0.341 - ETA: 5s - loss: 1.1564 - acc: 0.336 - ETA: 4s - loss: 1.1448 - acc: 0.339 - ETA: 4s - loss: 1.1436 - acc: 0.347 - ETA: 3s - loss: 1.1381 - acc: 0.355 - ETA: 3s - loss: 1.1328 - acc: 0.358 - ETA: 3s - loss: 1.1364 - acc: 0.354 - ETA: 2s - loss: 1.1265 - acc: 0.361 - ETA: 2s - loss: 1.1207 - acc: 0.370 - ETA: 2s - loss: 1.1191 - acc: 0.378 - ETA: 1s - loss: 1.1158 - acc: 0.379 - ETA: 1s - loss: 1.1130 - acc: 0.381 - ETA: 1s - loss: 1.1081 - acc: 0.390 - ETA: 1s - loss: 1.1045 - acc: 0.396 - ETA: 0s - loss: 1.1020 - acc: 0.399 - ETA: 0s - loss: 1.0998 - acc: 0.403 - ETA: 0s - loss: 1.0939 - acc: 0.407 - ETA: 0s - loss: 1.0898 - acc: 0.408 - 7s 8ms/step - loss: 1.0883 - acc: 0.4096 - val_loss: 0.9735 - val_acc: 0.5300\n",
      "Epoch 2/10\n",
      "935/935 [==============================] - ETA: 4s - loss: 0.9831 - acc: 0.562 - ETA: 4s - loss: 0.9307 - acc: 0.625 - ETA: 4s - loss: 0.9800 - acc: 0.531 - ETA: 4s - loss: 0.9800 - acc: 0.500 - ETA: 3s - loss: 0.9475 - acc: 0.518 - ETA: 3s - loss: 0.9523 - acc: 0.520 - ETA: 3s - loss: 0.9408 - acc: 0.526 - ETA: 3s - loss: 0.9363 - acc: 0.531 - ETA: 3s - loss: 0.9418 - acc: 0.517 - ETA: 3s - loss: 0.9562 - acc: 0.509 - ETA: 2s - loss: 0.9619 - acc: 0.508 - ETA: 2s - loss: 0.9636 - acc: 0.515 - ETA: 2s - loss: 0.9779 - acc: 0.507 - ETA: 2s - loss: 0.9710 - acc: 0.515 - ETA: 2s - loss: 0.9553 - acc: 0.539 - ETA: 2s - loss: 0.9472 - acc: 0.543 - ETA: 2s - loss: 0.9497 - acc: 0.536 - ETA: 1s - loss: 0.9437 - acc: 0.543 - ETA: 1s - loss: 0.9402 - acc: 0.546 - ETA: 1s - loss: 0.9401 - acc: 0.546 - ETA: 1s - loss: 0.9373 - acc: 0.550 - ETA: 1s - loss: 0.9396 - acc: 0.541 - ETA: 1s - loss: 0.9353 - acc: 0.542 - ETA: 0s - loss: 0.9337 - acc: 0.546 - ETA: 0s - loss: 0.9318 - acc: 0.550 - ETA: 0s - loss: 0.9326 - acc: 0.549 - ETA: 0s - loss: 0.9366 - acc: 0.545 - ETA: 0s - loss: 0.9383 - acc: 0.544 - ETA: 0s - loss: 0.9357 - acc: 0.547 - 5s 6ms/step - loss: 0.9337 - acc: 0.5497 - val_loss: 0.9497 - val_acc: 0.5000\n",
      "Epoch 3/10\n",
      "935/935 [==============================] - ETA: 4s - loss: 0.9352 - acc: 0.500 - ETA: 4s - loss: 0.8416 - acc: 0.593 - ETA: 4s - loss: 0.8532 - acc: 0.625 - ETA: 3s - loss: 0.8575 - acc: 0.609 - ETA: 3s - loss: 0.8511 - acc: 0.618 - ETA: 3s - loss: 0.8460 - acc: 0.604 - ETA: 3s - loss: 0.8698 - acc: 0.598 - ETA: 3s - loss: 0.8661 - acc: 0.601 - ETA: 3s - loss: 0.8463 - acc: 0.628 - ETA: 3s - loss: 0.8593 - acc: 0.628 - ETA: 2s - loss: 0.8493 - acc: 0.633 - ETA: 2s - loss: 0.8340 - acc: 0.643 - ETA: 2s - loss: 0.8291 - acc: 0.651 - ETA: 2s - loss: 0.8272 - acc: 0.651 - ETA: 2s - loss: 0.8284 - acc: 0.650 - ETA: 2s - loss: 0.8348 - acc: 0.644 - ETA: 1s - loss: 0.8258 - acc: 0.654 - ETA: 1s - loss: 0.8253 - acc: 0.649 - ETA: 1s - loss: 0.8268 - acc: 0.653 - ETA: 1s - loss: 0.8153 - acc: 0.660 - ETA: 1s - loss: 0.8101 - acc: 0.666 - ETA: 1s - loss: 0.8136 - acc: 0.660 - ETA: 1s - loss: 0.8136 - acc: 0.661 - ETA: 0s - loss: 0.8188 - acc: 0.660 - ETA: 0s - loss: 0.8213 - acc: 0.658 - ETA: 0s - loss: 0.8206 - acc: 0.657 - ETA: 0s - loss: 0.8161 - acc: 0.664 - ETA: 0s - loss: 0.8149 - acc: 0.661 - ETA: 0s - loss: 0.8213 - acc: 0.657 - 5s 5ms/step - loss: 0.8209 - acc: 0.6588 - val_loss: 0.9508 - val_acc: 0.5400\n",
      "Epoch 4/10\n",
      "935/935 [==============================] - ETA: 4s - loss: 0.9486 - acc: 0.562 - ETA: 3s - loss: 0.8294 - acc: 0.609 - ETA: 4s - loss: 0.7957 - acc: 0.635 - ETA: 3s - loss: 0.8171 - acc: 0.601 - ETA: 3s - loss: 0.7996 - acc: 0.643 - ETA: 3s - loss: 0.7942 - acc: 0.666 - ETA: 3s - loss: 0.7710 - acc: 0.687 - ETA: 3s - loss: 0.7725 - acc: 0.683 - ETA: 3s - loss: 0.7839 - acc: 0.680 - ETA: 3s - loss: 0.7839 - acc: 0.675 - ETA: 2s - loss: 0.7796 - acc: 0.676 - ETA: 2s - loss: 0.7756 - acc: 0.677 - ETA: 2s - loss: 0.7794 - acc: 0.675 - ETA: 2s - loss: 0.7797 - acc: 0.671 - ETA: 2s - loss: 0.7868 - acc: 0.672 - ETA: 2s - loss: 0.7736 - acc: 0.677 - ETA: 1s - loss: 0.7750 - acc: 0.678 - ETA: 1s - loss: 0.7686 - acc: 0.677 - ETA: 1s - loss: 0.7696 - acc: 0.674 - ETA: 1s - loss: 0.7688 - acc: 0.673 - ETA: 1s - loss: 0.7704 - acc: 0.671 - ETA: 1s - loss: 0.7704 - acc: 0.673 - ETA: 1s - loss: 0.7759 - acc: 0.672 - ETA: 0s - loss: 0.7682 - acc: 0.682 - ETA: 0s - loss: 0.7691 - acc: 0.680 - ETA: 0s - loss: 0.7707 - acc: 0.681 - ETA: 0s - loss: 0.7698 - acc: 0.679 - ETA: 0s - loss: 0.7657 - acc: 0.686 - ETA: 0s - loss: 0.7637 - acc: 0.687 - 5s 5ms/step - loss: 0.7636 - acc: 0.6877 - val_loss: 0.9741 - val_acc: 0.5500\n",
      "Epoch 5/10\n",
      "935/935 [==============================] - ETA: 3s - loss: 0.5631 - acc: 0.812 - ETA: 4s - loss: 0.6835 - acc: 0.687 - ETA: 4s - loss: 0.6717 - acc: 0.718 - ETA: 3s - loss: 0.6922 - acc: 0.710 - ETA: 3s - loss: 0.6950 - acc: 0.718 - ETA: 3s - loss: 0.6896 - acc: 0.724 - ETA: 3s - loss: 0.7012 - acc: 0.714 - ETA: 3s - loss: 0.7278 - acc: 0.699 - ETA: 3s - loss: 0.7238 - acc: 0.704 - ETA: 3s - loss: 0.7115 - acc: 0.715 - ETA: 2s - loss: 0.7114 - acc: 0.707 - ETA: 2s - loss: 0.7101 - acc: 0.705 - ETA: 2s - loss: 0.7135 - acc: 0.704 - ETA: 2s - loss: 0.7088 - acc: 0.712 - ETA: 2s - loss: 0.7044 - acc: 0.714 - ETA: 2s - loss: 0.7060 - acc: 0.716 - ETA: 1s - loss: 0.7020 - acc: 0.716 - ETA: 1s - loss: 0.6916 - acc: 0.724 - ETA: 1s - loss: 0.6908 - acc: 0.728 - ETA: 1s - loss: 0.6983 - acc: 0.726 - ETA: 1s - loss: 0.6946 - acc: 0.730 - ETA: 1s - loss: 0.6951 - acc: 0.735 - ETA: 1s - loss: 0.6955 - acc: 0.735 - ETA: 0s - loss: 0.7002 - acc: 0.730 - ETA: 0s - loss: 0.6998 - acc: 0.730 - ETA: 0s - loss: 0.6994 - acc: 0.728 - ETA: 0s - loss: 0.6972 - acc: 0.728 - ETA: 0s - loss: 0.7019 - acc: 0.725 - ETA: 0s - loss: 0.7016 - acc: 0.726 - 5s 5ms/step - loss: 0.7013 - acc: 0.7273 - val_loss: 0.9878 - val_acc: 0.5800\n",
      "Epoch 6/10\n",
      "935/935 [==============================] - ETA: 4s - loss: 0.7243 - acc: 0.718 - ETA: 4s - loss: 0.7107 - acc: 0.765 - ETA: 4s - loss: 0.6996 - acc: 0.781 - ETA: 3s - loss: 0.6650 - acc: 0.781 - ETA: 3s - loss: 0.6678 - acc: 0.775 - ETA: 3s - loss: 0.6533 - acc: 0.781 - ETA: 3s - loss: 0.6443 - acc: 0.767 - ETA: 3s - loss: 0.6291 - acc: 0.773 - ETA: 3s - loss: 0.6355 - acc: 0.770 - ETA: 3s - loss: 0.6408 - acc: 0.768 - ETA: 2s - loss: 0.6486 - acc: 0.755 - ETA: 2s - loss: 0.6393 - acc: 0.757 - ETA: 2s - loss: 0.6429 - acc: 0.757 - ETA: 2s - loss: 0.6521 - acc: 0.752 - ETA: 2s - loss: 0.6533 - acc: 0.760 - ETA: 2s - loss: 0.6589 - acc: 0.755 - ETA: 1s - loss: 0.6544 - acc: 0.762 - ETA: 1s - loss: 0.6595 - acc: 0.760 - ETA: 1s - loss: 0.6580 - acc: 0.761 - ETA: 1s - loss: 0.6551 - acc: 0.760 - ETA: 1s - loss: 0.6553 - acc: 0.757 - ETA: 1s - loss: 0.6509 - acc: 0.759 - ETA: 0s - loss: 0.6495 - acc: 0.760 - ETA: 0s - loss: 0.6543 - acc: 0.756 - ETA: 0s - loss: 0.6562 - acc: 0.752 - ETA: 0s - loss: 0.6545 - acc: 0.754 - ETA: 0s - loss: 0.6509 - acc: 0.756 - ETA: 0s - loss: 0.6480 - acc: 0.758 - ETA: 0s - loss: 0.6485 - acc: 0.757 - 5s 5ms/step - loss: 0.6467 - acc: 0.7594 - val_loss: 1.0066 - val_acc: 0.5500\n",
      "Epoch 7/10\n"
     ]
    },
    {
     "name": "stdout",
     "output_type": "stream",
     "text": [
      "935/935 [==============================] - ETA: 4s - loss: 0.6579 - acc: 0.750 - ETA: 4s - loss: 0.6851 - acc: 0.750 - ETA: 4s - loss: 0.6828 - acc: 0.729 - ETA: 3s - loss: 0.6574 - acc: 0.742 - ETA: 3s - loss: 0.6463 - acc: 0.750 - ETA: 3s - loss: 0.6453 - acc: 0.770 - ETA: 3s - loss: 0.6448 - acc: 0.767 - ETA: 3s - loss: 0.6434 - acc: 0.765 - ETA: 3s - loss: 0.6317 - acc: 0.777 - ETA: 3s - loss: 0.6348 - acc: 0.775 - ETA: 2s - loss: 0.6219 - acc: 0.781 - ETA: 2s - loss: 0.6262 - acc: 0.773 - ETA: 2s - loss: 0.6254 - acc: 0.769 - ETA: 2s - loss: 0.6228 - acc: 0.772 - ETA: 2s - loss: 0.6114 - acc: 0.779 - ETA: 2s - loss: 0.6095 - acc: 0.779 - ETA: 1s - loss: 0.6067 - acc: 0.783 - ETA: 1s - loss: 0.6063 - acc: 0.784 - ETA: 1s - loss: 0.6012 - acc: 0.787 - ETA: 1s - loss: 0.5996 - acc: 0.784 - ETA: 1s - loss: 0.6001 - acc: 0.781 - ETA: 1s - loss: 0.6010 - acc: 0.782 - ETA: 0s - loss: 0.6030 - acc: 0.782 - ETA: 0s - loss: 0.6053 - acc: 0.781 - ETA: 0s - loss: 0.6068 - acc: 0.781 - ETA: 0s - loss: 0.6061 - acc: 0.781 - ETA: 0s - loss: 0.6009 - acc: 0.785 - ETA: 0s - loss: 0.5984 - acc: 0.785 - ETA: 0s - loss: 0.5995 - acc: 0.786 - 5s 5ms/step - loss: 0.6000 - acc: 0.7861 - val_loss: 1.0061 - val_acc: 0.5600\n",
      "Epoch 8/10\n",
      "935/935 [==============================] - ETA: 5s - loss: 0.6103 - acc: 0.812 - ETA: 5s - loss: 0.5900 - acc: 0.812 - ETA: 4s - loss: 0.5617 - acc: 0.812 - ETA: 4s - loss: 0.5700 - acc: 0.804 - ETA: 4s - loss: 0.5666 - acc: 0.806 - ETA: 4s - loss: 0.5489 - acc: 0.817 - ETA: 3s - loss: 0.5409 - acc: 0.825 - ETA: 3s - loss: 0.5587 - acc: 0.808 - ETA: 3s - loss: 0.5468 - acc: 0.819 - ETA: 3s - loss: 0.5510 - acc: 0.818 - ETA: 3s - loss: 0.5438 - acc: 0.823 - ETA: 2s - loss: 0.5523 - acc: 0.817 - ETA: 2s - loss: 0.5392 - acc: 0.819 - ETA: 2s - loss: 0.5391 - acc: 0.821 - ETA: 2s - loss: 0.5301 - acc: 0.827 - ETA: 2s - loss: 0.5377 - acc: 0.818 - ETA: 2s - loss: 0.5438 - acc: 0.814 - ETA: 1s - loss: 0.5518 - acc: 0.807 - ETA: 1s - loss: 0.5482 - acc: 0.809 - ETA: 1s - loss: 0.5569 - acc: 0.807 - ETA: 1s - loss: 0.5566 - acc: 0.806 - ETA: 1s - loss: 0.5494 - acc: 0.811 - ETA: 1s - loss: 0.5492 - acc: 0.809 - ETA: 0s - loss: 0.5458 - acc: 0.812 - ETA: 0s - loss: 0.5483 - acc: 0.813 - ETA: 0s - loss: 0.5530 - acc: 0.812 - ETA: 0s - loss: 0.5529 - acc: 0.812 - ETA: 0s - loss: 0.5500 - acc: 0.814 - ETA: 0s - loss: 0.5567 - acc: 0.809 - 5s 6ms/step - loss: 0.5555 - acc: 0.8096 - val_loss: 1.0320 - val_acc: 0.5600\n",
      "Epoch 9/10\n",
      "935/935 [==============================] - ETA: 3s - loss: 0.4911 - acc: 0.750 - ETA: 4s - loss: 0.5172 - acc: 0.796 - ETA: 4s - loss: 0.5372 - acc: 0.802 - ETA: 4s - loss: 0.4969 - acc: 0.820 - ETA: 3s - loss: 0.4938 - acc: 0.818 - ETA: 3s - loss: 0.5060 - acc: 0.807 - ETA: 3s - loss: 0.5076 - acc: 0.817 - ETA: 3s - loss: 0.5230 - acc: 0.816 - ETA: 3s - loss: 0.5176 - acc: 0.819 - ETA: 3s - loss: 0.5223 - acc: 0.818 - ETA: 2s - loss: 0.5237 - acc: 0.818 - ETA: 2s - loss: 0.5160 - acc: 0.825 - ETA: 2s - loss: 0.5135 - acc: 0.819 - ETA: 2s - loss: 0.5243 - acc: 0.810 - ETA: 2s - loss: 0.5198 - acc: 0.814 - ETA: 2s - loss: 0.5091 - acc: 0.824 - ETA: 2s - loss: 0.5114 - acc: 0.823 - ETA: 1s - loss: 0.5126 - acc: 0.828 - ETA: 1s - loss: 0.5113 - acc: 0.828 - ETA: 1s - loss: 0.5204 - acc: 0.821 - ETA: 1s - loss: 0.5261 - acc: 0.819 - ETA: 1s - loss: 0.5270 - acc: 0.821 - ETA: 1s - loss: 0.5247 - acc: 0.826 - ETA: 0s - loss: 0.5276 - acc: 0.824 - ETA: 0s - loss: 0.5235 - acc: 0.827 - ETA: 0s - loss: 0.5295 - acc: 0.823 - ETA: 0s - loss: 0.5261 - acc: 0.825 - ETA: 0s - loss: 0.5226 - acc: 0.829 - ETA: 0s - loss: 0.5240 - acc: 0.827 - 5s 6ms/step - loss: 0.5219 - acc: 0.8289 - val_loss: 1.0414 - val_acc: 0.5500\n",
      "Epoch 10/10\n",
      "935/935 [==============================] - ETA: 4s - loss: 0.4210 - acc: 0.843 - ETA: 4s - loss: 0.4970 - acc: 0.843 - ETA: 4s - loss: 0.4588 - acc: 0.854 - ETA: 3s - loss: 0.4809 - acc: 0.851 - ETA: 3s - loss: 0.4647 - acc: 0.856 - ETA: 3s - loss: 0.4691 - acc: 0.854 - ETA: 3s - loss: 0.4924 - acc: 0.848 - ETA: 3s - loss: 0.4842 - acc: 0.847 - ETA: 3s - loss: 0.5052 - acc: 0.840 - ETA: 3s - loss: 0.4973 - acc: 0.843 - ETA: 2s - loss: 0.5004 - acc: 0.843 - ETA: 2s - loss: 0.4948 - acc: 0.843 - ETA: 2s - loss: 0.5011 - acc: 0.841 - ETA: 2s - loss: 0.4959 - acc: 0.841 - ETA: 2s - loss: 0.5010 - acc: 0.833 - ETA: 2s - loss: 0.5084 - acc: 0.828 - ETA: 1s - loss: 0.5072 - acc: 0.830 - ETA: 1s - loss: 0.5003 - acc: 0.836 - ETA: 1s - loss: 0.4965 - acc: 0.837 - ETA: 1s - loss: 0.4948 - acc: 0.840 - ETA: 1s - loss: 0.4918 - acc: 0.843 - ETA: 1s - loss: 0.4902 - acc: 0.843 - ETA: 1s - loss: 0.4858 - acc: 0.846 - ETA: 0s - loss: 0.4841 - acc: 0.845 - ETA: 0s - loss: 0.4925 - acc: 0.840 - ETA: 0s - loss: 0.4911 - acc: 0.840 - ETA: 0s - loss: 0.4928 - acc: 0.839 - ETA: 0s - loss: 0.4934 - acc: 0.839 - ETA: 0s - loss: 0.4911 - acc: 0.844 - 5s 5ms/step - loss: 0.4909 - acc: 0.8439 - val_loss: 1.0456 - val_acc: 0.5500\n"
     ]
    },
    {
     "data": {
      "text/plain": [
       "<keras.callbacks.History at 0x1eae9d88438>"
      ]
     },
     "execution_count": 15,
     "metadata": {},
     "output_type": "execute_result"
    }
   ],
   "source": [
    "model = Sequential()\n",
    "model.add(Bidirectional(GRU(hidden_size, input_shape=(timesteps, data_dim)), merge_mode='concat'))\n",
    "model.add(Dropout(0.5))\n",
    "model.add(Dense(3, activation='softmax'))\n",
    "model.compile(optimizer='adam', loss='categorical_crossentropy', metrics=['accuracy'])\n",
    "model.fit(train_vecs, to_categorical(y_train), epochs=num_epochs, validation_data=(val_vecs, to_categorical(y_validation)))"
   ]
  },
  {
   "cell_type": "code",
   "execution_count": 16,
   "metadata": {
    "collapsed": true
   },
   "outputs": [],
   "source": [
    "# model.save('./model/bi_gru_3/bi_gru_model_01.h5')  "
   ]
  },
  {
   "cell_type": "code",
   "execution_count": 17,
   "metadata": {},
   "outputs": [
    {
     "name": "stdout",
     "output_type": "stream",
     "text": [
      "             precision    recall  f1-score   support\n",
      "\n",
      "          0  0.57142857 0.70000000 0.62921348        40\n",
      "          1  0.40000000 0.30000000 0.34285714        20\n",
      "          2  0.58333333 0.52500000 0.55263158        40\n",
      "\n",
      "avg / total  0.54190476 0.55000000 0.54130945       100\n",
      "\n"
     ]
    }
   ],
   "source": [
    "# model = load_model('./model/bi_gru_3/bi_gru_model_01.h5')\n",
    "y_pred = model.predict(val_vecs)\n",
    "y_pred = np.argmax(y_pred, axis=1)\n",
    "print(classification_report(y_validation, y_pred, labels = [0, 1, 2], digits=8))"
   ]
  }
 ],
 "metadata": {
  "kernelspec": {
   "display_name": "Python 3",
   "language": "python",
   "name": "python3"
  },
  "language_info": {
   "codemirror_mode": {
    "name": "ipython",
    "version": 3
   },
   "file_extension": ".py",
   "mimetype": "text/x-python",
   "name": "python",
   "nbconvert_exporter": "python",
   "pygments_lexer": "ipython3",
   "version": "3.6.3"
  }
 },
 "nbformat": 4,
 "nbformat_minor": 2
}
