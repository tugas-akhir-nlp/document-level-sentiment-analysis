{
 "cells": [
  {
   "cell_type": "markdown",
   "metadata": {},
   "source": [
    "#### BEFORE : banyak alasan saya bisa merasa puas dengan pelayanan go jek . go jek tidak pernah lepas dari tanggung jawab . itu adalah nilai plus yang belum tentu dimiliki oleh perusahaan yang lain . \n",
    "#### AFTER : go jek tidak pernah lepas dari tanggung jawab . itu adalah nilai plus yang belum tentu dimiliki oleh perusahaan yang lain . banyak alasan saya bisa merasa puas dengan pelayanan go jek ."
   ]
  },
  {
   "cell_type": "code",
   "execution_count": 1,
   "metadata": {
    "scrolled": true
   },
   "outputs": [
    {
     "name": "stderr",
     "output_type": "stream",
     "text": [
      "C:\\Users\\User\\Anaconda3\\lib\\site-packages\\h5py\\__init__.py:36: FutureWarning: Conversion of the second argument of issubdtype from `float` to `np.floating` is deprecated. In future, it will be treated as `np.float64 == np.dtype(float).type`.\n",
      "  from ._conv import register_converters as _register_converters\n",
      "Using TensorFlow backend.\n",
      "C:\\Users\\User\\Anaconda3\\lib\\site-packages\\gensim\\utils.py:1212: UserWarning: detected Windows; aliasing chunkize to chunkize_serial\n",
      "  warnings.warn(\"detected Windows; aliasing chunkize to chunkize_serial\")\n"
     ]
    }
   ],
   "source": [
    "from Dnn import Dnn\n",
    "dnn = Dnn()"
   ]
  },
  {
   "cell_type": "code",
   "execution_count": 3,
   "metadata": {},
   "outputs": [
    {
     "name": "stdout",
     "output_type": "stream",
     "text": [
      "Teks: kecewa\n",
      "Model: all/cnn/cnn-pv/bi-lstm/bi-lstm-pv/bi-gru/bi-gru-pv/cnn-bi-lstm/cnn-bi-gru/lstm-bi-lstm/lstm-bi-gru\n",
      "Model: all\n",
      "cnn  :  negative\n",
      "bi-lstm  :  negative\n",
      "bi-gru  :  negative\n",
      "cnn-pv  :  negative\n",
      "bi-lstm-pv  :  negative\n",
      "bi-gru-pv  :  negative\n",
      "cnn-bi-lstm  :  negative\n",
      "cnn-bi-gru  :  negative\n",
      "lstm-bi-lstm  :  negative\n",
      "lstm-bi-gru  :  negative\n",
      "\n",
      "\n",
      "Teks: suka\n",
      "Model: all/cnn/cnn-pv/bi-lstm/bi-lstm-pv/bi-gru/bi-gru-pv/cnn-bi-lstm/cnn-bi-gru/lstm-bi-lstm/lstm-bi-gru\n",
      "Model: all\n",
      "cnn  :  positive\n",
      "bi-lstm  :  positive\n",
      "bi-gru  :  positive\n",
      "cnn-pv  :  positive\n",
      "bi-lstm-pv  :  positive\n",
      "bi-gru-pv  :  positive\n",
      "cnn-bi-lstm  :  positive\n",
      "cnn-bi-gru  :  positive\n",
      "lstm-bi-lstm  :  positive\n",
      "lstm-bi-gru  :  positive\n",
      "\n",
      "\n",
      "Teks: keren\n",
      "Model: all/cnn/cnn-pv/bi-lstm/bi-lstm-pv/bi-gru/bi-gru-pv/cnn-bi-lstm/cnn-bi-gru/lstm-bi-lstm/lstm-bi-gru\n",
      "Model: all\n",
      "cnn  :  positive\n",
      "bi-lstm  :  positive\n",
      "bi-gru  :  positive\n",
      "cnn-pv  :  positive\n",
      "bi-lstm-pv  :  positive\n",
      "bi-gru-pv  :  positive\n",
      "cnn-bi-lstm  :  positive\n",
      "cnn-bi-gru  :  positive\n",
      "lstm-bi-lstm  :  positive\n",
      "lstm-bi-gru  :  positive\n",
      "\n",
      "\n",
      "Teks: bagus aku suka warnanya tidak terlalu cerah\n",
      "Model: all/cnn/cnn-pv/bi-lstm/bi-lstm-pv/bi-gru/bi-gru-pv/cnn-bi-lstm/cnn-bi-gru/lstm-bi-lstm/lstm-bi-gru\n",
      "Model: all\n",
      "cnn  :  positive\n",
      "bi-lstm  :  positive\n",
      "bi-gru  :  positive\n",
      "cnn-pv  :  positive\n",
      "bi-lstm-pv  :  positive\n",
      "bi-gru-pv  :  positive\n",
      "cnn-bi-lstm  :  positive\n",
      "cnn-bi-gru  :  positive\n",
      "lstm-bi-lstm  :  positive\n",
      "lstm-bi-gru  :  positive\n",
      "\n",
      "\n",
      "Teks: jelek banget desainnya aku lebih milih yang kuning\n",
      "Model: all/cnn/cnn-pv/bi-lstm/bi-lstm-pv/bi-gru/bi-gru-pv/cnn-bi-lstm/cnn-bi-gru/lstm-bi-lstm/lstm-bi-gru\n",
      "Model: all\n",
      "cnn  :  negative\n",
      "bi-lstm  :  negative\n",
      "bi-gru  :  negative\n",
      "cnn-pv  :  negative\n",
      "bi-lstm-pv  :  negative\n",
      "bi-gru-pv  :  negative\n",
      "cnn-bi-lstm  :  negative\n",
      "cnn-bi-gru  :  negative\n",
      "lstm-bi-lstm  :  negative\n",
      "lstm-bi-gru  :  negative\n",
      "\n",
      "\n",
      "Teks: end\n"
     ]
    }
   ],
   "source": [
    "while (True):\n",
    "    text = input(\"Teks: \")\n",
    "    if (text == 'end'):\n",
    "        break\n",
    "    print(\"Model: all/cnn/cnn-pv/bi-lstm/bi-lstm-pv/bi-gru/bi-gru-pv/cnn-bi-lstm/cnn-bi-gru/lstm-bi-lstm/lstm-bi-gru\")\n",
    "    model = input(\"Model: \")\n",
    "    while (model != \"cnn\" and model != \"cnn-pv\" and model != \"bi-lstm\" and model != \"bi-lstm-pv\" and model != \"bi-gru\" and model != \"bi-gru-pv\" and model != \"cnn-bi-lstm\" and model != \"cnn-bi-gru\" and model != \"lstm-bi-lstm\" and model != \"lstm-bi-gru\" and model != \"all\"): \n",
    "        model = input(\"Model: \")\n",
    "    dnn.predict(model, text)\n",
    "    print(\"\\n\")"
   ]
  }
 ],
 "metadata": {
  "kernelspec": {
   "display_name": "Python 3",
   "language": "python",
   "name": "python3"
  },
  "language_info": {
   "codemirror_mode": {
    "name": "ipython",
    "version": 3
   },
   "file_extension": ".py",
   "mimetype": "text/x-python",
   "name": "python",
   "nbconvert_exporter": "python",
   "pygments_lexer": "ipython3",
   "version": "3.6.3"
  }
 },
 "nbformat": 4,
 "nbformat_minor": 2
}
