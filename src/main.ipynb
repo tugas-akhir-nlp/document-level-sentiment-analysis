{
 "cells": [
  {
   "cell_type": "markdown",
   "metadata": {},
   "source": [
    "## Import Module and Library"
   ]
  },
  {
   "cell_type": "code",
   "execution_count": null,
   "metadata": {},
   "outputs": [],
   "source": [
    "from Reader import Reader\n",
    "from VectorBuilder import VectorBuilder\n",
    "from DocTokenizer import DocTokenizer\n",
    "from gensim.models.word2vec import Word2Vec\n",
    "from keras.preprocessing.text import Tokenizer\n",
    "from DataSplitter import DataSplitter\n",
    "from DnnModel import DnnModel\n",
    "from Evaluator import Evaluator\n",
    "from PvModel import PvModel\n",
    "import numpy as np"
   ]
  },
  {
   "cell_type": "markdown",
   "metadata": {},
   "source": [
    "## Pembentukan Model Vektor Paragraf"
   ]
  },
  {
   "cell_type": "code",
   "execution_count": null,
   "metadata": {
    "collapsed": true
   },
   "outputs": [],
   "source": [
    "corpus_name = 'prosa'"
   ]
  },
  {
   "cell_type": "code",
   "execution_count": null,
   "metadata": {
    "collapsed": true
   },
   "outputs": [],
   "source": [
    "corpus = Reader()\n",
    "corpus.read_corpus(\"../resources/corpus/prosa/data_clean_punctuation/all_data.csv\")\n",
    "\n",
    "tokenizer = DocTokenizer()\n",
    "pv_input = tokenizer.fit_corpus(corpus.data_frame['content'])\n",
    "pv_model = PvModel()\n",
    "pv_model.create_pv_model(corpus_name, pv_input)"
   ]
  },
  {
   "cell_type": "markdown",
   "metadata": {},
   "source": [
    "## Pembangunan Model Klasifikasi Sentimen"
   ]
  },
  {
   "cell_type": "code",
   "execution_count": null,
   "metadata": {
    "collapsed": true
   },
   "outputs": [],
   "source": [
    "embedding_size = 500\n",
    "max_vocab = 19962\n",
    "max_sequence = 95 #85\n",
    "hierarchy = True\n",
    "paragraph_vec = False\n",
    "doc_vector = 'prosa'\n",
    "trainable = False\n",
    "# bi-rnn model\n",
    "rnn_type = 'bi-lstm'\n",
    "rnn_unit = 128\n",
    "# cnn model\n",
    "extra_conv = True\n",
    "cnn_kernel = [1,2,3]\n",
    "# hierarchical model\n",
    "max_sents = 15\n",
    "max_sen_len = 30 \n",
    "dnn_sent_level = 'lstm'\n",
    "dnn_doc_level = 'bi-gru'\n",
    "lstm_unit = 128\n",
    "grnn_unit = 128\n",
    "model_path ='../model/prosa/cnn/cnn_model_99.h5'\n",
    "num_epochs = 1\n",
    "batch_size = 256"
   ]
  },
  {
   "cell_type": "code",
   "execution_count": null,
   "metadata": {
    "collapsed": true
   },
   "outputs": [],
   "source": [
    "data_train = Reader()\n",
    "data_train.read_file(\"../resources/corpus/prosa/data_clean/prosa_data_train.csv\", hierarchy)"
   ]
  },
  {
   "cell_type": "code",
   "execution_count": null,
   "metadata": {},
   "outputs": [],
   "source": [
    "word2vec = Word2Vec.load('../resources/prosa-w2v/prosa.vec')\n",
    "\n",
    "tokenizer = Tokenizer(num_words=max_vocab, lower=True, char_level=False)\n",
    "tokenizer.fit_on_texts(data_train.data_frame['content'].tolist())\n",
    "train_word_index = tokenizer.word_index\n",
    "\n",
    "train_embedding = np.zeros((len(train_word_index)+1, embedding_size))\n",
    "for word,index in train_word_index.items():\n",
    "    train_embedding[index,:] = word2vec[word] if word in word2vec else np.random.rand(embedding_size)"
   ]
  },
  {
   "cell_type": "code",
   "execution_count": null,
   "metadata": {
    "collapsed": true
   },
   "outputs": [],
   "source": [
    "vector_builder = VectorBuilder(word2vec, embedding_size, max_vocab, max_sequence, paragraph_vec, corpus=data_train.data_frame['content'], doc_vector=doc_vector)\n",
    "\n",
    "if (paragraph_vec):\n",
    "    data = data_train.data_frame['tokens']\n",
    "else:\n",
    "    data = data_train.data_frame['content']\n",
    "    \n",
    "if (hierarchy):\n",
    "    train = vector_builder.build_hierarchy_sequences(data, max_sents, max_sen_len)\n",
    "else:\n",
    "    train = vector_builder.build_sequences(data)\n",
    "    \n",
    "label_train = data_train.data_frame['sentiment'].values"
   ]
  },
  {
   "cell_type": "code",
   "execution_count": null,
   "metadata": {},
   "outputs": [],
   "source": [
    "exp_data = DataSplitter()\n",
    "exp_data.split(train, label_train, 0.1)"
   ]
  },
  {
   "cell_type": "code",
   "execution_count": null,
   "metadata": {},
   "outputs": [],
   "source": [
    "model = DnnModel(train_embedding, embedding_size, max_sequence, paragraph_vec)\n",
    "model.create_hierarchy_model(max_sents, max_sen_len, dnn_sent_level, dnn_doc_level, trainable, lstm_unit=lstm_unit, grnn_unit=grnn_unit)\n",
    "model.fit(exp_data.x_train, exp_data.y_train, exp_data.x_validation, exp_data.y_validation, num_epochs, batch_size, model_path)"
   ]
  },
  {
   "cell_type": "markdown",
   "metadata": {},
   "source": [
    "## Evaluasi Model Klasifikasi Sentimen"
   ]
  },
  {
   "cell_type": "code",
   "execution_count": null,
   "metadata": {
    "collapsed": true
   },
   "outputs": [],
   "source": [
    "embedding_size = 500\n",
    "max_vocab = 19962\n",
    "max_sequence = 95 #85\n",
    "hierarchy = True\n",
    "paragraph_vec = False\n",
    "doc_vector = 'prosa'\n",
    "# hierarchical model\n",
    "max_sents = 15\n",
    "max_sen_len = 30 "
   ]
  },
  {
   "cell_type": "code",
   "execution_count": null,
   "metadata": {},
   "outputs": [],
   "source": [
    "data_train = Reader()\n",
    "data_train.read_file(\"../resources/corpus/prosa/data_clean/prosa_data_train.csv\", hierarchy)\n",
    "\n",
    "data_test = Reader()\n",
    "data_test.read_file(\"../resources/corpus/prosa/data_clean/prosa_data_test.csv\", hierarchy)"
   ]
  },
  {
   "cell_type": "code",
   "execution_count": null,
   "metadata": {
    "collapsed": true
   },
   "outputs": [],
   "source": [
    "word2vec = Word2Vec.load('../resources/prosa-w2v/prosa.vec')\n",
    "vector_builder = VectorBuilder(word2vec, embedding_size, max_vocab, max_sequence, paragraph_vec, corpus=data_train.data_frame['content'], doc_vector=doc_vector)\n",
    "\n",
    "if (paragraph_vec):\n",
    "    data = data_test.data_frame['tokens']\n",
    "else:\n",
    "    data = data_test.data_frame['content']\n",
    "    \n",
    "if (hierarchy):\n",
    "    test = vector_builder.build_hierarchy_sequences(data, max_sents, max_sen_len)\n",
    "else:\n",
    "    test = vector_builder.build_sequences(data)\n",
    "    \n",
    "label_test = data_test.data_frame['sentiment'].values"
   ]
  },
  {
   "cell_type": "code",
   "execution_count": null,
   "metadata": {},
   "outputs": [],
   "source": [
    "model = DnnModel([], embedding_size, max_sequence, paragraph_vec)\n",
    "model_path ='../model/prosa/cnn_bi_lstm_model.h5'\n",
    "model.load_model(model_path)\n",
    "y_pred = model.predict(test)\n",
    "evaluator = Evaluator(label_test)\n",
    "evaluator.show_evaluation(y_pred)"
   ]
  }
 ],
 "metadata": {
  "kernelspec": {
   "display_name": "Python 3",
   "language": "python",
   "name": "python3"
  },
  "language_info": {
   "codemirror_mode": {
    "name": "ipython",
    "version": 3
   },
   "file_extension": ".py",
   "mimetype": "text/x-python",
   "name": "python",
   "nbconvert_exporter": "python",
   "pygments_lexer": "ipython3",
   "version": "3.6.3"
  }
 },
 "nbformat": 4,
 "nbformat_minor": 2
}
